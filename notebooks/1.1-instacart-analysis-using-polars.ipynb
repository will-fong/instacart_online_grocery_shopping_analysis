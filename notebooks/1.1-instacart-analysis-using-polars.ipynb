{
 "cells": [
  {
   "cell_type": "markdown",
   "metadata": {},
   "source": [
    "# Instacart Market Basket Analysis"
   ]
  },
  {
   "cell_type": "markdown",
   "metadata": {},
   "source": [
    "# Introduction"
   ]
  },
  {
   "cell_type": "markdown",
   "metadata": {},
   "source": [
    "For reference, the information is sourced from https://www.kaggle.com/c/instacart-market-basket-analysis/overview and the data dictionary is sourced from https://gist.github.com/jeremystan/c3b39d947d9b88b3ccff3147dbcf6c6b\n",
    "\n",
    "“The Instacart Online Grocery Shopping Dataset 2017”, Accessed from https://www.instacart.com/datasets/grocery-shopping-2017 on <date>"
   ]
  },
  {
   "cell_type": "markdown",
   "metadata": {},
   "source": [
    "Goal: To predict the product/s in an order\n",
    "\n",
    "The five important steps involved in Data Science is as shown below:\n",
    "\n",
    "1. Getting the data.\n",
    "2. Cleaning the data\n",
    "3. Exploring the data\n",
    "4. Building the data\n",
    "5. Presenting the data"
   ]
  },
  {
   "cell_type": "markdown",
   "metadata": {},
   "source": [
    "# Initialization"
   ]
  },
  {
   "cell_type": "code",
   "execution_count": null,
   "metadata": {},
   "outputs": [],
   "source": [
    "import polars as pl\n",
    "import numpy as np\n",
    "\n",
    "import matplotlib.pyplot as plt\n",
    "%matplotlib inline\n",
    "\n",
    "import seaborn as sns\n",
    "color = sns.color_palette()"
   ]
  },
  {
   "cell_type": "code",
   "execution_count": null,
   "metadata": {},
   "outputs": [],
   "source": [
    "df_aisles = pl.read_csv('../data/raw/aisles.csv', low_memory = False)\n",
    "df_aisles.head()"
   ]
  },
  {
   "cell_type": "code",
   "execution_count": null,
   "metadata": {},
   "outputs": [],
   "source": [
    "df_departments = pl.read_csv('../data/raw/departments.csv', low_memory = False)\n",
    "df_departments.head()"
   ]
  },
  {
   "cell_type": "code",
   "execution_count": null,
   "metadata": {},
   "outputs": [],
   "source": [
    "df_products = pl.read_csv('../data/raw/products.csv', low_memory = False)\n",
    "df_products.head()"
   ]
  },
  {
   "cell_type": "markdown",
   "metadata": {},
   "source": [
    "At first glance, the products table can be denormalized and joined with the aisles and departments tables."
   ]
  },
  {
   "cell_type": "code",
   "execution_count": null,
   "metadata": {},
   "outputs": [],
   "source": [
    "df_orders = pl.read_csv('../data/raw/orders.csv', low_memory = False)\n",
    "df_orders.head()"
   ]
  },
  {
   "cell_type": "markdown",
   "metadata": {},
   "source": [
    "This table indicates the user ID and order number which will help associate users to an order and understand the product mix for prior and subsequent orders. More importantly, the order set is specified which categorizes orders into prior orders, training orders, and testing orders. Time series analysis can also be performed with the date of week, hour of day, and days since prior order."
   ]
  },
  {
   "cell_type": "markdown",
   "metadata": {},
   "source": [
    "# Exploration"
   ]
  },
  {
   "cell_type": "code",
   "execution_count": null,
   "metadata": {},
   "outputs": [],
   "source": [
    "df_orders.shape"
   ]
  },
  {
   "cell_type": "code",
   "execution_count": null,
   "metadata": {},
   "outputs": [],
   "source": [
    "df_orders.describe()"
   ]
  },
  {
   "cell_type": "markdown",
   "metadata": {},
   "source": [
    "There are over 3 million rows in the orders table, and describe shows most reorders occur 1.5 to 7 days after their prior order."
   ]
  },
  {
   "cell_type": "code",
   "execution_count": null,
   "metadata": {},
   "outputs": [],
   "source": [
    "df_orders['eval_set'].unique()"
   ]
  },
  {
   "cell_type": "markdown",
   "metadata": {},
   "source": [
    "The orders data has been conveniently labeled with prior, test, and train to help our analysis."
   ]
  },
  {
   "cell_type": "markdown",
   "metadata": {},
   "source": [
    "## Order Count"
   ]
  },
  {
   "cell_type": "code",
   "execution_count": null,
   "metadata": {},
   "outputs": [],
   "source": [
    "df_order_count = (\n",
    "    df_orders\n",
    "    .groupby('user_id')\n",
    "    .agg(\n",
    "        [\n",
    "            pl.col('user_id').count()\n",
    "        ]\n",
    "    )\n",
    "    .sort('user_id_count', reverse=True)\n",
    ")\n",
    "\n",
    "df_order_count.head()"
   ]
  },
  {
   "cell_type": "code",
   "execution_count": null,
   "metadata": {},
   "outputs": [],
   "source": [
    "df_order_count.shape"
   ]
  },
  {
   "cell_type": "code",
   "execution_count": null,
   "metadata": {},
   "outputs": [],
   "source": [
    "fig = sns.histplot(x=df_order_count['user_id_count'])\n",
    "fig.show()"
   ]
  },
  {
   "cell_type": "markdown",
   "metadata": {},
   "source": [
    "The histogram of the order number shows that the orders are not uniformly distributed as expected with a heavy right skew, and an interesting spike at what appears to be at 100 orders.  Let's determine the size of 80% of our orders."
   ]
  },
  {
   "cell_type": "code",
   "execution_count": null,
   "metadata": {},
   "outputs": [],
   "source": [
    "fig = sns.histplot(x=df_order_count['user_id_count'], stat='probability', cumulative=True)\n",
    "\n",
    "fig.show()"
   ]
  },
  {
   "cell_type": "markdown",
   "metadata": {},
   "source": [
    "At a quick glance, the orders table shows that roughly 80% of users have ordered from 4 to 25 times and it may be prudent to limit our data to this subset to efficiently model our predictions.  Note that orders with less than 4 items were not included in the original dataset."
   ]
  },
  {
   "cell_type": "code",
   "execution_count": null,
   "metadata": {},
   "outputs": [],
   "source": [
    "plt.figure(figsize=(8,6))\n",
    "sns.countplot(data=df_orders.to_pandas(), x='order_dow', color=color[0])\n",
    "\n",
    "plt.ylabel('Order count', fontsize=12)\n",
    "plt.xlabel('Day of week', fontsize=12)\n",
    "\n",
    "plt.title('Frequency of order by day of week', fontsize=15)\n",
    "\n",
    "plt.show()"
   ]
  },
  {
   "cell_type": "code",
   "execution_count": null,
   "metadata": {},
   "outputs": [],
   "source": [
    "fig = sns.histplot(x=df_orders['order_dow'], stat='percent')\n",
    "fig.show()"
   ]
  },
  {
   "cell_type": "markdown",
   "metadata": {},
   "source": [
    "The data dictionary does not explicity state which days these numbers correspond to so it will be presumed that 0 and 1 correspond to Saturday and Sunday.  It is plausible that users may have orders on the weekend to prepare for the week ahead."
   ]
  },
  {
   "cell_type": "code",
   "execution_count": null,
   "metadata": {},
   "outputs": [],
   "source": [
    "plt.figure(figsize=(8,6))\n",
    "sns.countplot(data=df_orders.to_pandas(), x='order_hour_of_day', color=color[0])\n",
    "\n",
    "plt.ylabel('Order count', fontsize=12)\n",
    "plt.xlabel('Hour of day', fontsize=12)\n",
    "\n",
    "plt.title('Frequency of order by hour of day', fontsize=15)\n",
    "\n",
    "plt.show()"
   ]
  },
  {
   "cell_type": "code",
   "execution_count": null,
   "metadata": {},
   "outputs": [],
   "source": [
    "fig = sns.histplot(x=df_orders['order_hour_of_day'], stat='percent')\n",
    "fig.show()"
   ]
  },
  {
   "cell_type": "markdown",
   "metadata": {},
   "source": [
    "As expected, most orders occur during daytime hours."
   ]
  },
  {
   "cell_type": "code",
   "execution_count": null,
   "metadata": {},
   "outputs": [],
   "source": [
    "df_orders_group_by_dow_hod = (\n",
    "    df_orders\n",
    "    .groupby(['order_dow', 'order_hour_of_day'])\n",
    "    .agg(\n",
    "        [\n",
    "            (pl.col(\"order_number\").count().alias(\"order_count_by_dow_hod\"))\n",
    "        ]\n",
    "        )\n",
    ")\n",
    "\n",
    "df_orders_pivot = df_orders_group_by_dow_hod.pivot(index='order_dow', column='order_hour_of_day', values='order_number')\n",
    "\n",
    "# plt.figure(figsize=(12,6))\n",
    "# sns.heatmap(df_orders_pivot)\n",
    "# plt.title('Frequency of day of week versus hour of day')\n",
    "\n",
    "# plt.show()"
   ]
  },
  {
   "cell_type": "markdown",
   "metadata": {},
   "source": [
    "It would appear that Sunday mornings from 9-11am and Saturday afternoons from 1-3pm are the most popular times of day for orders."
   ]
  },
  {
   "cell_type": "code",
   "execution_count": null,
   "metadata": {},
   "outputs": [],
   "source": [
    "plt.figure(figsize=(8,6))\n",
    "ax = sns.countplot(data=df_orders.to_pandas(), x='days_since_prior_order', color=color[3])\n",
    "\n",
    "plt.ylabel('Order count', fontsize=12)\n",
    "plt.xlabel('Days since prior order', fontsize=12)\n",
    "ax.set_xticklabels(ax.get_xticklabels(), rotation=45, ha='right')\n",
    "plt.title('Frequency distribution by days since prior order', fontsize=15)\n",
    "\n",
    "plt.show()"
   ]
  },
  {
   "cell_type": "code",
   "execution_count": null,
   "metadata": {},
   "outputs": [],
   "source": [
    "fig = sns.histplot(x=df_orders['days_since_prior_order'], stat='percent')\n",
    "fig.show()"
   ]
  },
  {
   "cell_type": "markdown",
   "metadata": {},
   "source": [
    "Both 30 and 7 days stand out as the most common number of days since a user's prior order."
   ]
  },
  {
   "cell_type": "markdown",
   "metadata": {},
   "source": [
    "# Data Preparation"
   ]
  },
  {
   "cell_type": "code",
   "execution_count": null,
   "metadata": {},
   "outputs": [],
   "source": [
    "df_train_order_products = pl.read_csv('../data/raw/order_products__train.csv', low_memory = False)\n",
    "df_train_order_products.head()"
   ]
  },
  {
   "cell_type": "markdown",
   "metadata": {},
   "source": [
    "In the training data set, the products in the orders are shown.  The cart order sequence and the reordered flag will undoubtedly be insightful."
   ]
  },
  {
   "cell_type": "code",
   "execution_count": null,
   "metadata": {},
   "outputs": [],
   "source": [
    "df_order_products_prior = pl.read_csv('../data/raw/order_products__prior.csv', low_memory = False)\n",
    "df_order_products_prior.head()"
   ]
  },
  {
   "cell_type": "markdown",
   "metadata": {},
   "source": [
    "There is another dataset for the prior orders for products.  Let's check if these records are distinct or included within the training set. "
   ]
  },
  {
   "cell_type": "code",
   "execution_count": null,
   "metadata": {},
   "outputs": [],
   "source": [
    "df_order_products_combined = pl.concat([df_train_order_products, df_order_products_prior])\n",
    "\n",
    "df_order_products_combined.shape"
   ]
  },
  {
   "cell_type": "code",
   "execution_count": null,
   "metadata": {},
   "outputs": [],
   "source": [
    "df_order_products_combined.drop_duplicates().shape"
   ]
  },
  {
   "cell_type": "markdown",
   "metadata": {},
   "source": [
    "With this we have validated that the records are distinct from each other and can use this to understand the whole picture after joining with our remaining datasets."
   ]
  },
  {
   "cell_type": "code",
   "execution_count": null,
   "metadata": {},
   "outputs": [],
   "source": [
    "df_products_aisles = df_products.join(df_aisles, on='aisle_id', how='left')\n",
    "df_products_aisles_departments = df_products_aisles.join(df_departments, on='department_id', how='left')\n",
    "\n",
    "df_products_aisles_departments.head()"
   ]
  },
  {
   "cell_type": "code",
   "execution_count": null,
   "metadata": {},
   "outputs": [],
   "source": [
    "df_order_products_combined = df_order_products_combined.join(df_products_aisles_departments, on='product_id', how='left')\n",
    "\n",
    "df_order_products_combined.head()"
   ]
  },
  {
   "cell_type": "markdown",
   "metadata": {},
   "source": [
    "Notice that the orders are not linked with the user."
   ]
  },
  {
   "cell_type": "code",
   "execution_count": null,
   "metadata": {},
   "outputs": [],
   "source": [
    "df_train_order_products_combined = df_order_products_combined.join(df_orders, on='order_id', how='left')\n",
    "\n",
    "df_train_order_products_combined.head()"
   ]
  },
  {
   "cell_type": "markdown",
   "metadata": {},
   "source": [
    "This table brings over 32 million orders and mirrors the structure of the training set.  The left join is used to filter out the testing data for orders.\n",
    "\n"
   ]
  },
  {
   "cell_type": "code",
   "execution_count": null,
   "metadata": {},
   "outputs": [],
   "source": [
    "df_train_order_products_combined['eval_set'].unique()"
   ]
  },
  {
   "cell_type": "markdown",
   "metadata": {},
   "source": [
    "The data frame only contains the prior and train data, and we can now output this as a CSV for model building."
   ]
  },
  {
   "cell_type": "code",
   "execution_count": null,
   "metadata": {},
   "outputs": [],
   "source": [
    "# df_train_order_products_combined.to_pickle('../data/processed/data_order_products.pkl')"
   ]
  },
  {
   "cell_type": "code",
   "execution_count": null,
   "metadata": {},
   "outputs": [],
   "source": [
    "product_count = df_train_order_products_combined['product_name'].value_counts().head(10)\n",
    "product_count.columns = ['product_name', 'frequency_count']\n",
    "\n",
    "product_count"
   ]
  },
  {
   "cell_type": "code",
   "execution_count": null,
   "metadata": {},
   "outputs": [],
   "source": [
    "plt.figure(figsize=(12,8))\n",
    "sns.barplot(data=product_count.to_pandas(), x='frequency_count', y='product_name', alpha=0.8)\n",
    "plt.xlabel('Number of Occurrences', fontsize=12)\n",
    "plt.ylabel('Aisle', fontsize=12)\n",
    "\n",
    "plt.show()"
   ]
  },
  {
   "cell_type": "code",
   "execution_count": null,
   "metadata": {},
   "outputs": [],
   "source": [
    "fig = sns.histplot(x=product_count['frequency_count'], cumulative=True)\n",
    "\n",
    "fig.show()"
   ]
  },
  {
   "cell_type": "markdown",
   "metadata": {},
   "source": [
    "Organic fruits and vegetables immediately stand out, so let's dive into the aisle."
   ]
  },
  {
   "cell_type": "code",
   "execution_count": null,
   "metadata": {},
   "outputs": [],
   "source": [
    "order_products_aisle = df_train_order_products_combined['aisle'].value_counts().head(10)\n",
    "order_products_aisle.columns = ['aisle_name', 'frequency_count']\n",
    "\n",
    "order_products_aisle"
   ]
  },
  {
   "cell_type": "code",
   "execution_count": null,
   "metadata": {},
   "outputs": [],
   "source": [
    "plt.figure(figsize=(12,8))\n",
    "sns.barplot(data=order_products_aisle.to_pandas(), y='aisle_name', x='frequency_count', alpha=0.8)\n",
    "plt.xlabel('Number of Occurrences', fontsize=12)\n",
    "plt.ylabel('Aisle', fontsize=12)\n",
    "\n",
    "plt.show()"
   ]
  },
  {
   "cell_type": "markdown",
   "metadata": {},
   "source": [
    "Let's understand how large the orders are"
   ]
  },
  {
   "cell_type": "code",
   "execution_count": null,
   "metadata": {},
   "outputs": [],
   "source": [
    "df_product_count = (\n",
    "    df_order_products_combined\n",
    "    .groupby('order_id')\n",
    "    .agg(\n",
    "        [\n",
    "            pl.col('order_id').count()\n",
    "        ]\n",
    "    )\n",
    "    .sort('order_id_count', reverse=True)\n",
    ")\n",
    "\n",
    "df_product_count.head()"
   ]
  },
  {
   "cell_type": "code",
   "execution_count": null,
   "metadata": {},
   "outputs": [],
   "source": [
    "fig = sns.histplot(x=df_product_count['order_id_count'], stat='probability', cumulative=True)\n",
    "\n",
    "fig.show()"
   ]
  },
  {
   "cell_type": "markdown",
   "metadata": {},
   "source": [
    "For the actual orders, we can spot that roughly 15 items are in the cart for 80% of the orders. "
   ]
  },
  {
   "cell_type": "code",
   "execution_count": null,
   "metadata": {},
   "outputs": [],
   "source": [
    "df_train_order_products_combined['reordered'].sum() / df_train_order_products_combined.shape[0]"
   ]
  },
  {
   "cell_type": "markdown",
   "metadata": {},
   "source": [
    "In the entire data set, 59% of the orders were classified as reordered."
   ]
  },
  {
   "cell_type": "markdown",
   "metadata": {},
   "source": [
    "## TBD"
   ]
  },
  {
   "cell_type": "markdown",
   "metadata": {},
   "source": [
    "Let's examine the order distribution for users."
   ]
  },
  {
   "cell_type": "code",
   "execution_count": null,
   "metadata": {},
   "outputs": [],
   "source": [
    "user_id_count =  (\n",
    "    df_orders\n",
    "    .groupby('user_id')\n",
    "    .agg(\n",
    "        [\n",
    "            pl.col('user_id').count()\n",
    "        ]\n",
    "    )\n",
    "    .sort('user_id_count', reverse=True)\n",
    ")\n",
    "\n",
    "user_id_count.head()"
   ]
  },
  {
   "cell_type": "markdown",
   "metadata": {},
   "source": [
    "There are over 200,000 users in this dataset."
   ]
  },
  {
   "cell_type": "code",
   "execution_count": null,
   "metadata": {},
   "outputs": [],
   "source": [
    "fig = sns.histplot(x=user_id_count['user_id_count'], stat='probability', cumulative=True)\n",
    "\n",
    "fig.show()"
   ]
  },
  {
   "cell_type": "markdown",
   "metadata": {},
   "source": [
    "For efficiency, it is reasonable to look only at users with 20 orders maximum as it comprises almost 80% of the data."
   ]
  },
  {
   "cell_type": "code",
   "execution_count": null,
   "metadata": {},
   "outputs": [],
   "source": [
    "fig = sns.histplot(x=user_id_count['user_id_count'], binrange=[4, 20])\n",
    "\n",
    "fig.show()"
   ]
  },
  {
   "cell_type": "code",
   "execution_count": null,
   "metadata": {},
   "outputs": [],
   "source": [
    "order_id_count =  (\n",
    "    df_train_order_products\n",
    "    .groupby('order_id')\n",
    "    .agg(\n",
    "        [\n",
    "            pl.col('order_id').count()\n",
    "        ]\n",
    "    )\n",
    "    .sort('order_id_count', reverse=True)\n",
    ")\n",
    "\n",
    "order_id_count.head()"
   ]
  },
  {
   "cell_type": "code",
   "execution_count": null,
   "metadata": {},
   "outputs": [],
   "source": [
    "fig = sns.histplot(x=order_id_count['order_id_count'], stat='probability', cumulative=True)\n",
    "\n",
    "fig.show()"
   ]
  },
  {
   "cell_type": "markdown",
   "metadata": {},
   "source": [
    "For efficiency, it is reasonable to look at orders with 20 products maximum as it comprises almost 90% of the data."
   ]
  },
  {
   "cell_type": "code",
   "execution_count": null,
   "metadata": {},
   "outputs": [],
   "source": [
    "order_id_prior_count =  (\n",
    "    df_order_products_prior\n",
    "    .groupby('order_id')\n",
    "    .agg(\n",
    "        [\n",
    "            pl.col('order_id').count()\n",
    "        ]\n",
    "    )\n",
    "    .sort('order_id_count', reverse=True)\n",
    ")\n",
    "\n",
    "order_id_prior_count.head()"
   ]
  },
  {
   "cell_type": "code",
   "execution_count": null,
   "metadata": {},
   "outputs": [],
   "source": [
    "fig = sns.histplot(x=order_id_prior_count['order_id_count'], stat='probability', cumulative=True)\n",
    "\n",
    "fig.show()"
   ]
  },
  {
   "cell_type": "markdown",
   "metadata": {},
   "source": [
    "The prior orders also validate the previous point of looking at orders with 20 products maximum."
   ]
  },
  {
   "cell_type": "code",
   "execution_count": null,
   "metadata": {},
   "outputs": [],
   "source": [
    "df_train_order_products_named = df_train_order_products.join(df_products, on='product_id', how='inner')\n",
    "\n",
    "df_train_order_products_named.head()"
   ]
  },
  {
   "cell_type": "markdown",
   "metadata": {},
   "source": [
    "The orders table does not have the product name due to normalization so we denormalize it to bring the product name back into play"
   ]
  },
  {
   "cell_type": "code",
   "execution_count": null,
   "metadata": {},
   "outputs": [],
   "source": [
    "products_value_counts = df_train_order_products_named['product_name'].astype('category').value_counts()\n",
    "\n",
    "products_value_counts.head(10)"
   ]
  },
  {
   "cell_type": "markdown",
   "metadata": {},
   "source": [
    "A quick glance into the data highlights the popularity of organic goods"
   ]
  },
  {
   "cell_type": "markdown",
   "metadata": {},
   "source": []
  },
  {
   "cell_type": "code",
   "execution_count": null,
   "metadata": {},
   "outputs": [],
   "source": [
    "df_train_order_products['product_id'].astype('category').value_counts()[:2].plot.hist(cumulative = True, density = True, figsize = (12, 6))"
   ]
  },
  {
   "cell_type": "markdown",
   "metadata": {},
   "source": [
    "It may be worth to examine to apply the pareto principle to the original 40,000 products to determine potentially which 20% of unique products result in 80% of the orders."
   ]
  },
  {
   "cell_type": "code",
   "execution_count": null,
   "metadata": {},
   "outputs": [],
   "source": [
    "df_order_products_prior_named = pl.merge(df_order_products_prior, df_products, on='product_id', how='inner')\n",
    "\n",
    "df_order_products_prior_named.head()"
   ]
  },
  {
   "cell_type": "markdown",
   "metadata": {},
   "source": [
    "Let's take a look at the most popular products in the prior orders, regardless of whether they were or were not reordered"
   ]
  },
  {
   "cell_type": "code",
   "execution_count": null,
   "metadata": {},
   "outputs": [],
   "source": [
    "products_prior_value_counts = df_order_products_prior_named['product_name'].astype('category').value_counts()\n",
    "\n",
    "products_prior_value_counts.head(10)"
   ]
  },
  {
   "cell_type": "markdown",
   "metadata": {},
   "source": [
    "Many of the current popular products are unsurprisingly popular products for prior orders"
   ]
  }
 ],
 "metadata": {
  "interpreter": {
   "hash": "47bfacf238af902e255f843adaca8f636a6fb02ff2b09db2cbf0e4ee988c8a1e"
  },
  "kernelspec": {
   "display_name": "Python 3 (ipykernel)",
   "language": "python",
   "name": "python3"
  },
  "language_info": {
   "codemirror_mode": {
    "name": "ipython",
    "version": 3
   },
   "file_extension": ".py",
   "mimetype": "text/x-python",
   "name": "python",
   "nbconvert_exporter": "python",
   "pygments_lexer": "ipython3",
   "version": "3.7.11"
  },
  "toc": {
   "base_numbering": 1,
   "nav_menu": {},
   "number_sections": true,
   "sideBar": true,
   "skip_h1_title": false,
   "title_cell": "Table of Contents",
   "title_sidebar": "Contents",
   "toc_cell": false,
   "toc_position": {},
   "toc_section_display": true,
   "toc_window_display": false
  },
  "varInspector": {
   "cols": {
    "lenName": 16,
    "lenType": 16,
    "lenVar": 40
   },
   "kernels_config": {
    "python": {
     "delete_cmd_postfix": "",
     "delete_cmd_prefix": "del ",
     "library": "var_list.py",
     "varRefreshCmd": "print(var_dic_list())"
    },
    "r": {
     "delete_cmd_postfix": ") ",
     "delete_cmd_prefix": "rm(",
     "library": "var_list.r",
     "varRefreshCmd": "cat(var_dic_list()) "
    }
   },
   "types_to_exclude": [
    "module",
    "function",
    "builtin_function_or_method",
    "instance",
    "_Feature"
   ],
   "window_display": false
  }
 },
 "nbformat": 4,
 "nbformat_minor": 2
}
