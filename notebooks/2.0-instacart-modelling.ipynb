{
 "cells": [
  {
   "cell_type": "markdown",
   "metadata": {},
   "source": [
    "# Instacart Market Basket Analysis"
   ]
  },
  {
   "cell_type": "markdown",
   "metadata": {},
   "source": [
    "## Data Loading"
   ]
  },
  {
   "cell_type": "code",
   "execution_count": 4,
   "metadata": {},
   "outputs": [],
   "source": [
    "import pandas as pd"
   ]
  },
  {
   "cell_type": "code",
   "execution_count": 5,
   "metadata": {},
   "outputs": [],
   "source": [
    "df_orders = pd.read_csv('../data/raw/orders.csv')\n",
    "df_order_products_train = pd.read_csv('../data/raw/order_products__train.csv')\n",
    "df_order_products_prior = pd.read_csv('../data/raw/order_products__prior.csv')\n",
    "df_products = pd.read_csv('../data/raw/products.csv')\n",
    "df_aisles = pd.read_csv('../data/raw/aisles.csv')\n",
    "df_departments = pd.read_csv('../data/raw/departments.csv')"
   ]
  },
  {
   "cell_type": "markdown",
   "metadata": {},
   "source": [
    "As an overview, each data set contains differing information which will help us predict users' orders:\n",
    "\n",
    "    df_orders: This table includes all orders, divided into a prior, train, and test set. It has a single primary key (order_id).\n",
    "    df_order_products_train: This table includes only training order data. It has a composite primary key (order_id and product_id) and indicates the target variable for whether a product in an order is a reorder or not (through the reordered variable).\n",
    "    df_order_products_prior : This table include only prior order data. It has a composite primary key (order_id and product_id) and indicates the target variable forwhether a product in an order is a reorder or not (through the reordered variable).\n",
    "    df_products: This table includes all products. It has a single primary key (product_id).\n",
    "    df_aisles: This table includes all aisles. It has a single primary key (aisle_id).\n",
    "    df_departments: This table includes all departments. It has a single primary key (department_id)."
   ]
  },
  {
   "cell_type": "code",
   "execution_count": 6,
   "metadata": {},
   "outputs": [],
   "source": [
    "df_aisles['aisle'] = df_aisles['aisle'].astype('category')\n",
    "df_departments['department'] = df_departments['department'].astype('category')\n",
    "df_orders['eval_set'] = df_orders['eval_set'].astype('category')\n",
    "df_products['product_name'] = df_products['product_name'].astype('category')"
   ]
  },
  {
   "cell_type": "markdown",
   "metadata": {},
   "source": [
    "After converting the above fields to categorical, we can continue with preparing the data frame."
   ]
  },
  {
   "cell_type": "code",
   "execution_count": 7,
   "metadata": {},
   "outputs": [
    {
     "data": {
      "text/plain": "   order_id  user_id eval_set  order_number  order_dow  order_hour_of_day  \\\n0   2539329        1    prior             1          2                  8   \n1   2539329        1    prior             1          2                  8   \n2   2539329        1    prior             1          2                  8   \n3   2539329        1    prior             1          2                  8   \n4   2539329        1    prior             1          2                  8   \n\n   days_since_prior_order  product_id  add_to_cart_order  reordered  \n0                     NaN         196                  1          0  \n1                     NaN       14084                  2          0  \n2                     NaN       12427                  3          0  \n3                     NaN       26088                  4          0  \n4                     NaN       26405                  5          0  ",
      "text/html": "<div>\n<style scoped>\n    .dataframe tbody tr th:only-of-type {\n        vertical-align: middle;\n    }\n\n    .dataframe tbody tr th {\n        vertical-align: top;\n    }\n\n    .dataframe thead th {\n        text-align: right;\n    }\n</style>\n<table border=\"1\" class=\"dataframe\">\n  <thead>\n    <tr style=\"text-align: right;\">\n      <th></th>\n      <th>order_id</th>\n      <th>user_id</th>\n      <th>eval_set</th>\n      <th>order_number</th>\n      <th>order_dow</th>\n      <th>order_hour_of_day</th>\n      <th>days_since_prior_order</th>\n      <th>product_id</th>\n      <th>add_to_cart_order</th>\n      <th>reordered</th>\n    </tr>\n  </thead>\n  <tbody>\n    <tr>\n      <th>0</th>\n      <td>2539329</td>\n      <td>1</td>\n      <td>prior</td>\n      <td>1</td>\n      <td>2</td>\n      <td>8</td>\n      <td>NaN</td>\n      <td>196</td>\n      <td>1</td>\n      <td>0</td>\n    </tr>\n    <tr>\n      <th>1</th>\n      <td>2539329</td>\n      <td>1</td>\n      <td>prior</td>\n      <td>1</td>\n      <td>2</td>\n      <td>8</td>\n      <td>NaN</td>\n      <td>14084</td>\n      <td>2</td>\n      <td>0</td>\n    </tr>\n    <tr>\n      <th>2</th>\n      <td>2539329</td>\n      <td>1</td>\n      <td>prior</td>\n      <td>1</td>\n      <td>2</td>\n      <td>8</td>\n      <td>NaN</td>\n      <td>12427</td>\n      <td>3</td>\n      <td>0</td>\n    </tr>\n    <tr>\n      <th>3</th>\n      <td>2539329</td>\n      <td>1</td>\n      <td>prior</td>\n      <td>1</td>\n      <td>2</td>\n      <td>8</td>\n      <td>NaN</td>\n      <td>26088</td>\n      <td>4</td>\n      <td>0</td>\n    </tr>\n    <tr>\n      <th>4</th>\n      <td>2539329</td>\n      <td>1</td>\n      <td>prior</td>\n      <td>1</td>\n      <td>2</td>\n      <td>8</td>\n      <td>NaN</td>\n      <td>26405</td>\n      <td>5</td>\n      <td>0</td>\n    </tr>\n  </tbody>\n</table>\n</div>"
     },
     "execution_count": 7,
     "metadata": {},
     "output_type": "execute_result"
    }
   ],
   "source": [
    "df_orders_products_staging = pd.merge(df_orders, df_order_products_prior, on='order_id', how='inner')\n",
    "\n",
    "df_orders_products_staging.head()"
   ]
  },
  {
   "cell_type": "markdown",
   "metadata": {},
   "source": [
    "## Feature Engineering"
   ]
  },
  {
   "cell_type": "markdown",
   "metadata": {},
   "source": [
    "### User Features"
   ]
  },
  {
   "cell_type": "code",
   "execution_count": 8,
   "metadata": {},
   "outputs": [
    {
     "data": {
      "text/plain": "   user_id  user_total_orders\n0        1                 10\n1        2                 14\n2        3                 12\n3        4                  5\n4        5                  4",
      "text/html": "<div>\n<style scoped>\n    .dataframe tbody tr th:only-of-type {\n        vertical-align: middle;\n    }\n\n    .dataframe tbody tr th {\n        vertical-align: top;\n    }\n\n    .dataframe thead th {\n        text-align: right;\n    }\n</style>\n<table border=\"1\" class=\"dataframe\">\n  <thead>\n    <tr style=\"text-align: right;\">\n      <th></th>\n      <th>user_id</th>\n      <th>user_total_orders</th>\n    </tr>\n  </thead>\n  <tbody>\n    <tr>\n      <th>0</th>\n      <td>1</td>\n      <td>10</td>\n    </tr>\n    <tr>\n      <th>1</th>\n      <td>2</td>\n      <td>14</td>\n    </tr>\n    <tr>\n      <th>2</th>\n      <td>3</td>\n      <td>12</td>\n    </tr>\n    <tr>\n      <th>3</th>\n      <td>4</td>\n      <td>5</td>\n    </tr>\n    <tr>\n      <th>4</th>\n      <td>5</td>\n      <td>4</td>\n    </tr>\n  </tbody>\n</table>\n</div>"
     },
     "execution_count": 8,
     "metadata": {},
     "output_type": "execute_result"
    }
   ],
   "source": [
    "user_total_orders = df_orders_products_staging.groupby('user_id')['order_number'].max().to_frame('user_total_orders').reset_index()\n",
    "\n",
    "user_total_orders.head()"
   ]
  },
  {
   "cell_type": "markdown",
   "metadata": {},
   "source": [
    "A user's total orders may provide insight into whether the user even will reorder, and the reset index is used to not designate user_id as the index."
   ]
  },
  {
   "cell_type": "code",
   "execution_count": 9,
   "metadata": {},
   "outputs": [],
   "source": [
    "import seaborn as sns\n",
    "\n",
    "import matplotlib.pyplot as plt\n",
    "%matplotlib inline"
   ]
  },
  {
   "cell_type": "code",
   "execution_count": 10,
   "metadata": {},
   "outputs": [
    {
     "data": {
      "text/plain": "<seaborn.axisgrid.FacetGrid at 0x296be07d9c0>"
     },
     "execution_count": 10,
     "metadata": {},
     "output_type": "execute_result"
    },
    {
     "data": {
      "text/plain": "<Figure size 360x360 with 1 Axes>",
      "image/png": "[encoded data removed]"
     },
     "metadata": {
      "needs_background": "light"
     },
     "output_type": "display_data"
    }
   ],
   "source": [
    "sns.displot(user_total_orders, x='user_total_orders', stat='probability')"
   ]
  },
  {
   "cell_type": "markdown",
   "metadata": {},
   "source": [
    "The total orders is heavily right skewed as this data set does not include users who have never ordered. To account for this, we can use the log1p function to transform the total orders."
   ]
  },
  {
   "cell_type": "code",
   "execution_count": 11,
   "metadata": {},
   "outputs": [],
   "source": [
    "import numpy as np"
   ]
  },
  {
   "cell_type": "code",
   "execution_count": 12,
   "metadata": {},
   "outputs": [
    {
     "data": {
      "text/plain": "   user_id  user_total_orders  user_total_orders_log\n0        1                 10               2.302585\n1        2                 14               2.639057\n2        3                 12               2.484907\n3        4                  5               1.609438\n4        5                  4               1.386294",
      "text/html": "<div>\n<style scoped>\n    .dataframe tbody tr th:only-of-type {\n        vertical-align: middle;\n    }\n\n    .dataframe tbody tr th {\n        vertical-align: top;\n    }\n\n    .dataframe thead th {\n        text-align: right;\n    }\n</style>\n<table border=\"1\" class=\"dataframe\">\n  <thead>\n    <tr style=\"text-align: right;\">\n      <th></th>\n      <th>user_id</th>\n      <th>user_total_orders</th>\n      <th>user_total_orders_log</th>\n    </tr>\n  </thead>\n  <tbody>\n    <tr>\n      <th>0</th>\n      <td>1</td>\n      <td>10</td>\n      <td>2.302585</td>\n    </tr>\n    <tr>\n      <th>1</th>\n      <td>2</td>\n      <td>14</td>\n      <td>2.639057</td>\n    </tr>\n    <tr>\n      <th>2</th>\n      <td>3</td>\n      <td>12</td>\n      <td>2.484907</td>\n    </tr>\n    <tr>\n      <th>3</th>\n      <td>4</td>\n      <td>5</td>\n      <td>1.609438</td>\n    </tr>\n    <tr>\n      <th>4</th>\n      <td>5</td>\n      <td>4</td>\n      <td>1.386294</td>\n    </tr>\n  </tbody>\n</table>\n</div>"
     },
     "execution_count": 12,
     "metadata": {},
     "output_type": "execute_result"
    }
   ],
   "source": [
    "user_total_orders['user_total_orders_log'] = user_total_orders['user_total_orders'].apply(lambda x: np.log(x))\n",
    "\n",
    "user_total_orders.head()"
   ]
  },
  {
   "cell_type": "code",
   "execution_count": 13,
   "metadata": {},
   "outputs": [
    {
     "data": {
      "text/plain": "<seaborn.axisgrid.FacetGrid at 0x2969a14b280>"
     },
     "execution_count": 13,
     "metadata": {},
     "output_type": "execute_result"
    },
    {
     "data": {
      "text/plain": "<Figure size 360x360 with 1 Axes>",
      "image/png": "[encoded data removed]"
     },
     "metadata": {
      "needs_background": "light"
     },
     "output_type": "display_data"
    }
   ],
   "source": [
    "sns.displot(user_total_orders, x='user_total_orders_log', stat='probability')"
   ]
  },
  {
   "cell_type": "markdown",
   "metadata": {},
   "source": [
    "Since orders is a discrete variable, the distribution remains positively skewed and the logarithmic transformation will have reduced the impact of users with significantly large total orders."
   ]
  },
  {
   "cell_type": "code",
   "execution_count": 14,
   "metadata": {},
   "outputs": [],
   "source": [
    "from scipy import stats\n",
    "  \n",
    "user_total_orders['user_total_orders_boxcox'], user_total_orders['boxcox_lambda'] = stats.boxcox(user_total_orders['user_total_orders'])"
   ]
  },
  {
   "cell_type": "code",
   "execution_count": 15,
   "metadata": {},
   "outputs": [
    {
     "data": {
      "text/plain": "<Figure size 720x360 with 2 Axes>",
      "image/png": "[encoded data removed]"
     },
     "metadata": {
      "needs_background": "light"
     },
     "output_type": "display_data"
    }
   ],
   "source": [
    "fig, ax = plt.subplots(1, 2)\n",
    "\n",
    "sns.histplot(user_total_orders['user_total_orders'], stat = 'percent',\n",
    "            label = 'Normal', color ='blue', ax = ax[0])\n",
    "\n",
    "sns.histplot(user_total_orders['user_total_orders_boxcox'], stat = 'percent',\n",
    "            label = 'Non-Normal', color ='green', ax = ax[1])\n",
    "\n",
    "plt.legend(loc = \"upper right\")\n",
    "  \n",
    "fig.set_figheight(5)\n",
    "fig.set_figwidth(10)"
   ]
  },
  {
   "cell_type": "markdown",
   "metadata": {},
   "source": [
    "### Product Features"
   ]
  },
  {
   "cell_type": "code",
   "execution_count": 16,
   "metadata": {},
   "outputs": [
    {
     "data": {
      "text/plain": "   product_id  product_total_orders\n0           1                  1852\n1           2                    90\n2           3                   277\n3           4                   329\n4           5                    15",
      "text/html": "<div>\n<style scoped>\n    .dataframe tbody tr th:only-of-type {\n        vertical-align: middle;\n    }\n\n    .dataframe tbody tr th {\n        vertical-align: top;\n    }\n\n    .dataframe thead th {\n        text-align: right;\n    }\n</style>\n<table border=\"1\" class=\"dataframe\">\n  <thead>\n    <tr style=\"text-align: right;\">\n      <th></th>\n      <th>product_id</th>\n      <th>product_total_orders</th>\n    </tr>\n  </thead>\n  <tbody>\n    <tr>\n      <th>0</th>\n      <td>1</td>\n      <td>1852</td>\n    </tr>\n    <tr>\n      <th>1</th>\n      <td>2</td>\n      <td>90</td>\n    </tr>\n    <tr>\n      <th>2</th>\n      <td>3</td>\n      <td>277</td>\n    </tr>\n    <tr>\n      <th>3</th>\n      <td>4</td>\n      <td>329</td>\n    </tr>\n    <tr>\n      <th>4</th>\n      <td>5</td>\n      <td>15</td>\n    </tr>\n  </tbody>\n</table>\n</div>"
     },
     "execution_count": 16,
     "metadata": {},
     "output_type": "execute_result"
    }
   ],
   "source": [
    "product_total_orders = df_orders_products_staging.groupby('product_id')['order_id'].count().to_frame('product_total_orders').reset_index()\n",
    "\n",
    "product_total_orders.head()"
   ]
  },
  {
   "cell_type": "markdown",
   "metadata": {},
   "source": [
    "Similarly, a product's total orders may provide some insight into whether the product even will be considered to be reordered, and the reset index is used to not designate user_id as the index."
   ]
  },
  {
   "cell_type": "code",
   "execution_count": 17,
   "metadata": {},
   "outputs": [
    {
     "data": {
      "text/plain": "<AxesSubplot:xlabel='product_total_orders', ylabel='Probability'>"
     },
     "execution_count": 17,
     "metadata": {},
     "output_type": "execute_result"
    },
    {
     "data": {
      "text/plain": "<Figure size 432x288 with 1 Axes>",
      "image/png": "[encoded data removed]"
     },
     "metadata": {
      "needs_background": "light"
     },
     "output_type": "display_data"
    }
   ],
   "source": [
    "# Note that seaborn auto bins result in an empty plot and the doane binning method is explicitly used.\n",
    "\n",
    "sns.histplot(product_total_orders, x='product_total_orders', stat='probability', bins='doane')"
   ]
  },
  {
   "cell_type": "code",
   "execution_count": 18,
   "metadata": {},
   "outputs": [
    {
     "data": {
      "text/plain": "   product_id  product_total_orders  product_total_orders_log\n0           1                  1852                  7.524021\n1           2                    90                  4.499810\n2           3                   277                  5.624018\n3           4                   329                  5.796058\n4           5                    15                  2.708050",
      "text/html": "<div>\n<style scoped>\n    .dataframe tbody tr th:only-of-type {\n        vertical-align: middle;\n    }\n\n    .dataframe tbody tr th {\n        vertical-align: top;\n    }\n\n    .dataframe thead th {\n        text-align: right;\n    }\n</style>\n<table border=\"1\" class=\"dataframe\">\n  <thead>\n    <tr style=\"text-align: right;\">\n      <th></th>\n      <th>product_id</th>\n      <th>product_total_orders</th>\n      <th>product_total_orders_log</th>\n    </tr>\n  </thead>\n  <tbody>\n    <tr>\n      <th>0</th>\n      <td>1</td>\n      <td>1852</td>\n      <td>7.524021</td>\n    </tr>\n    <tr>\n      <th>1</th>\n      <td>2</td>\n      <td>90</td>\n      <td>4.499810</td>\n    </tr>\n    <tr>\n      <th>2</th>\n      <td>3</td>\n      <td>277</td>\n      <td>5.624018</td>\n    </tr>\n    <tr>\n      <th>3</th>\n      <td>4</td>\n      <td>329</td>\n      <td>5.796058</td>\n    </tr>\n    <tr>\n      <th>4</th>\n      <td>5</td>\n      <td>15</td>\n      <td>2.708050</td>\n    </tr>\n  </tbody>\n</table>\n</div>"
     },
     "execution_count": 18,
     "metadata": {},
     "output_type": "execute_result"
    }
   ],
   "source": [
    "product_total_orders['product_total_orders_log'] = product_total_orders['product_total_orders'].apply(lambda x: np.log(x))\n",
    "\n",
    "product_total_orders.head()"
   ]
  },
  {
   "cell_type": "code",
   "execution_count": 19,
   "metadata": {},
   "outputs": [
    {
     "data": {
      "text/plain": "<seaborn.axisgrid.FacetGrid at 0x296c6781a80>"
     },
     "execution_count": 19,
     "metadata": {},
     "output_type": "execute_result"
    },
    {
     "data": {
      "text/plain": "<Figure size 360x360 with 1 Axes>",
      "image/png": "[encoded data removed]"
     },
     "metadata": {
      "needs_background": "light"
     },
     "output_type": "display_data"
    }
   ],
   "source": [
    "sns.displot(product_total_orders, x='product_total_orders_log', stat='probability')"
   ]
  },
  {
   "cell_type": "markdown",
   "metadata": {},
   "source": [
    "After the logarithmic transformation, the total orders for a product appears to be approximately normally distributed."
   ]
  },
  {
   "cell_type": "markdown",
   "metadata": {},
   "source": [
    "### User-Product Features"
   ]
  },
  {
   "cell_type": "code",
   "execution_count": 20,
   "metadata": {},
   "outputs": [
    {
     "data": {
      "text/plain": "   user_id  product_id  user_product_total_orders\n0        1         196                         10\n1        1       10258                          9\n2        1       10326                          1\n3        1       12427                         10\n4        1       13032                          3",
      "text/html": "<div>\n<style scoped>\n    .dataframe tbody tr th:only-of-type {\n        vertical-align: middle;\n    }\n\n    .dataframe tbody tr th {\n        vertical-align: top;\n    }\n\n    .dataframe thead th {\n        text-align: right;\n    }\n</style>\n<table border=\"1\" class=\"dataframe\">\n  <thead>\n    <tr style=\"text-align: right;\">\n      <th></th>\n      <th>user_id</th>\n      <th>product_id</th>\n      <th>user_product_total_orders</th>\n    </tr>\n  </thead>\n  <tbody>\n    <tr>\n      <th>0</th>\n      <td>1</td>\n      <td>196</td>\n      <td>10</td>\n    </tr>\n    <tr>\n      <th>1</th>\n      <td>1</td>\n      <td>10258</td>\n      <td>9</td>\n    </tr>\n    <tr>\n      <th>2</th>\n      <td>1</td>\n      <td>10326</td>\n      <td>1</td>\n    </tr>\n    <tr>\n      <th>3</th>\n      <td>1</td>\n      <td>12427</td>\n      <td>10</td>\n    </tr>\n    <tr>\n      <th>4</th>\n      <td>1</td>\n      <td>13032</td>\n      <td>3</td>\n    </tr>\n  </tbody>\n</table>\n</div>"
     },
     "execution_count": 20,
     "metadata": {},
     "output_type": "execute_result"
    }
   ],
   "source": [
    "user_product_total_orders = df_orders_products_staging.groupby(['user_id', 'product_id'])['order_id'].count().to_frame('user_product_total_orders').reset_index()\n",
    "\n",
    "user_product_total_orders.head()"
   ]
  },
  {
   "cell_type": "code",
   "execution_count": 21,
   "metadata": {},
   "outputs": [
    {
     "data": {
      "text/plain": "<seaborn.axisgrid.FacetGrid at 0x296c6de7790>"
     },
     "execution_count": 21,
     "metadata": {},
     "output_type": "execute_result"
    },
    {
     "data": {
      "text/plain": "<Figure size 360x360 with 1 Axes>",
      "image/png": "[encoded data removed]"
     },
     "metadata": {
      "needs_background": "light"
     },
     "output_type": "display_data"
    }
   ],
   "source": [
    "# Note that seaborn auto bins result in an empty plot and the doane binning method is explicitly used.\n",
    "\n",
    "sns.displot(user_product_total_orders, x='user_product_total_orders', stat='probability', bins='doane')"
   ]
  },
  {
   "cell_type": "markdown",
   "metadata": {},
   "source": [
    "With this we have an idea of how often users order each particular product and need to compile our results into one usable data frame."
   ]
  },
  {
   "cell_type": "code",
   "execution_count": 22,
   "metadata": {},
   "outputs": [
    {
     "data": {
      "text/plain": "   user_id  product_id  user_product_total_orders  \\\n0        1         196                         10   \n1        1       10258                          9   \n2        1       10326                          1   \n3        1       12427                         10   \n4        1       13032                          3   \n\n   user_product_total_orders_log  \n0                       2.302585  \n1                       2.197225  \n2                       0.000000  \n3                       2.302585  \n4                       1.098612  ",
      "text/html": "<div>\n<style scoped>\n    .dataframe tbody tr th:only-of-type {\n        vertical-align: middle;\n    }\n\n    .dataframe tbody tr th {\n        vertical-align: top;\n    }\n\n    .dataframe thead th {\n        text-align: right;\n    }\n</style>\n<table border=\"1\" class=\"dataframe\">\n  <thead>\n    <tr style=\"text-align: right;\">\n      <th></th>\n      <th>user_id</th>\n      <th>product_id</th>\n      <th>user_product_total_orders</th>\n      <th>user_product_total_orders_log</th>\n    </tr>\n  </thead>\n  <tbody>\n    <tr>\n      <th>0</th>\n      <td>1</td>\n      <td>196</td>\n      <td>10</td>\n      <td>2.302585</td>\n    </tr>\n    <tr>\n      <th>1</th>\n      <td>1</td>\n      <td>10258</td>\n      <td>9</td>\n      <td>2.197225</td>\n    </tr>\n    <tr>\n      <th>2</th>\n      <td>1</td>\n      <td>10326</td>\n      <td>1</td>\n      <td>0.000000</td>\n    </tr>\n    <tr>\n      <th>3</th>\n      <td>1</td>\n      <td>12427</td>\n      <td>10</td>\n      <td>2.302585</td>\n    </tr>\n    <tr>\n      <th>4</th>\n      <td>1</td>\n      <td>13032</td>\n      <td>3</td>\n      <td>1.098612</td>\n    </tr>\n  </tbody>\n</table>\n</div>"
     },
     "execution_count": 22,
     "metadata": {},
     "output_type": "execute_result"
    }
   ],
   "source": [
    "user_product_total_orders['user_product_total_orders_log'] = user_product_total_orders['user_product_total_orders'].apply(lambda x: np.log(x))\n",
    "\n",
    "user_product_total_orders.head()"
   ]
  },
  {
   "cell_type": "code",
   "execution_count": 23,
   "metadata": {},
   "outputs": [
    {
     "data": {
      "text/plain": "<seaborn.axisgrid.FacetGrid at 0x296c6782b60>"
     },
     "execution_count": 23,
     "metadata": {},
     "output_type": "execute_result"
    },
    {
     "data": {
      "text/plain": "<Figure size 360x360 with 1 Axes>",
      "image/png": "[encoded data removed]"
     },
     "metadata": {
      "needs_background": "light"
     },
     "output_type": "display_data"
    }
   ],
   "source": [
    "# Note that seaborn auto bins result in an empty plot and the doane binning method is explicitly used.\n",
    "\n",
    "sns.displot(user_product_total_orders, x='user_product_total_orders_log', stat='probability', bins='doane')"
   ]
  },
  {
   "cell_type": "markdown",
   "metadata": {},
   "source": [
    "The best indicator may be to simply use the user's existing order history to determine whether the user will reorder a product.  Obviously, this will be helpful for users and products with an existing order history, but it will not be helpful for users and products with no order history."
   ]
  },
  {
   "cell_type": "code",
   "execution_count": 24,
   "metadata": {},
   "outputs": [
    {
     "data": {
      "text/plain": "   user_id  product_id  user_product_total_reorders\n0        1         196                            9\n1        1       10258                            8\n2        1       10326                            0\n3        1       12427                            9\n4        1       13032                            2",
      "text/html": "<div>\n<style scoped>\n    .dataframe tbody tr th:only-of-type {\n        vertical-align: middle;\n    }\n\n    .dataframe tbody tr th {\n        vertical-align: top;\n    }\n\n    .dataframe thead th {\n        text-align: right;\n    }\n</style>\n<table border=\"1\" class=\"dataframe\">\n  <thead>\n    <tr style=\"text-align: right;\">\n      <th></th>\n      <th>user_id</th>\n      <th>product_id</th>\n      <th>user_product_total_reorders</th>\n    </tr>\n  </thead>\n  <tbody>\n    <tr>\n      <th>0</th>\n      <td>1</td>\n      <td>196</td>\n      <td>9</td>\n    </tr>\n    <tr>\n      <th>1</th>\n      <td>1</td>\n      <td>10258</td>\n      <td>8</td>\n    </tr>\n    <tr>\n      <th>2</th>\n      <td>1</td>\n      <td>10326</td>\n      <td>0</td>\n    </tr>\n    <tr>\n      <th>3</th>\n      <td>1</td>\n      <td>12427</td>\n      <td>9</td>\n    </tr>\n    <tr>\n      <th>4</th>\n      <td>1</td>\n      <td>13032</td>\n      <td>2</td>\n    </tr>\n  </tbody>\n</table>\n</div>"
     },
     "execution_count": 24,
     "metadata": {},
     "output_type": "execute_result"
    }
   ],
   "source": [
    "user_product_total_reorders = df_orders_products_staging.groupby(['user_id', 'product_id'])['reordered'].sum().to_frame('user_product_total_reorders').reset_index()\n",
    "\n",
    "user_product_total_reorders.head()"
   ]
  },
  {
   "cell_type": "code",
   "execution_count": 25,
   "metadata": {},
   "outputs": [
    {
     "data": {
      "text/plain": "<seaborn.axisgrid.FacetGrid at 0x296c5e9a680>"
     },
     "execution_count": 25,
     "metadata": {},
     "output_type": "execute_result"
    },
    {
     "data": {
      "text/plain": "<Figure size 360x360 with 1 Axes>",
      "image/png": "[encoded data removed]"
     },
     "metadata": {
      "needs_background": "light"
     },
     "output_type": "display_data"
    }
   ],
   "source": [
    "# Note that seaborn auto bins result in an empty plot and the doane binning method is explicitly used.\n",
    "\n",
    "sns.displot(user_product_total_reorders, x='user_product_total_reorders', stat='probability', discrete=True)"
   ]
  },
  {
   "cell_type": "markdown",
   "metadata": {},
   "source": [
    "There are enough users that have not reordered a product so this will likely not be useful.  What if we segregate out those that have not reordered?"
   ]
  },
  {
   "cell_type": "code",
   "execution_count": 26,
   "metadata": {},
   "outputs": [
    {
     "data": {
      "text/plain": "<seaborn.axisgrid.FacetGrid at 0x296be82ca00>"
     },
     "execution_count": 26,
     "metadata": {},
     "output_type": "execute_result"
    },
    {
     "data": {
      "text/plain": "<Figure size 360x360 with 1 Axes>",
      "image/png": "[encoded data removed]"
     },
     "metadata": {
      "needs_background": "light"
     },
     "output_type": "display_data"
    }
   ],
   "source": [
    "sns.displot(user_product_total_reorders[user_product_total_reorders > 0], x='user_product_total_reorders', stat='probability', discrete=True, )"
   ]
  },
  {
   "cell_type": "code",
   "execution_count": 26,
   "metadata": {},
   "outputs": [],
   "source": []
  },
  {
   "cell_type": "code",
   "execution_count": 26,
   "metadata": {},
   "outputs": [],
   "source": []
  },
  {
   "cell_type": "markdown",
   "metadata": {},
   "source": [
    "### Data Preprocessing"
   ]
  },
  {
   "cell_type": "code",
   "execution_count": 27,
   "metadata": {},
   "outputs": [
    {
     "data": {
      "text/plain": "   user_id  product_id  user_product_total_orders  \\\n0        1         196                         10   \n1        1       10258                          9   \n2        1       10326                          1   \n3        1       12427                         10   \n4        1       13032                          3   \n\n   user_product_total_orders_log  user_total_orders  user_total_orders_log  \\\n0                       2.302585                 10               2.302585   \n1                       2.197225                 10               2.302585   \n2                       0.000000                 10               2.302585   \n3                       2.302585                 10               2.302585   \n4                       1.098612                 10               2.302585   \n\n   user_total_orders_boxcox  boxcox_lambda  \n0                  1.744875      -0.253166  \n1                  1.744875      -0.253166  \n2                  1.744875      -0.253166  \n3                  1.744875      -0.253166  \n4                  1.744875      -0.253166  ",
      "text/html": "<div>\n<style scoped>\n    .dataframe tbody tr th:only-of-type {\n        vertical-align: middle;\n    }\n\n    .dataframe tbody tr th {\n        vertical-align: top;\n    }\n\n    .dataframe thead th {\n        text-align: right;\n    }\n</style>\n<table border=\"1\" class=\"dataframe\">\n  <thead>\n    <tr style=\"text-align: right;\">\n      <th></th>\n      <th>user_id</th>\n      <th>product_id</th>\n      <th>user_product_total_orders</th>\n      <th>user_product_total_orders_log</th>\n      <th>user_total_orders</th>\n      <th>user_total_orders_log</th>\n      <th>user_total_orders_boxcox</th>\n      <th>boxcox_lambda</th>\n    </tr>\n  </thead>\n  <tbody>\n    <tr>\n      <th>0</th>\n      <td>1</td>\n      <td>196</td>\n      <td>10</td>\n      <td>2.302585</td>\n      <td>10</td>\n      <td>2.302585</td>\n      <td>1.744875</td>\n      <td>-0.253166</td>\n    </tr>\n    <tr>\n      <th>1</th>\n      <td>1</td>\n      <td>10258</td>\n      <td>9</td>\n      <td>2.197225</td>\n      <td>10</td>\n      <td>2.302585</td>\n      <td>1.744875</td>\n      <td>-0.253166</td>\n    </tr>\n    <tr>\n      <th>2</th>\n      <td>1</td>\n      <td>10326</td>\n      <td>1</td>\n      <td>0.000000</td>\n      <td>10</td>\n      <td>2.302585</td>\n      <td>1.744875</td>\n      <td>-0.253166</td>\n    </tr>\n    <tr>\n      <th>3</th>\n      <td>1</td>\n      <td>12427</td>\n      <td>10</td>\n      <td>2.302585</td>\n      <td>10</td>\n      <td>2.302585</td>\n      <td>1.744875</td>\n      <td>-0.253166</td>\n    </tr>\n    <tr>\n      <th>4</th>\n      <td>1</td>\n      <td>13032</td>\n      <td>3</td>\n      <td>1.098612</td>\n      <td>10</td>\n      <td>2.302585</td>\n      <td>1.744875</td>\n      <td>-0.253166</td>\n    </tr>\n  </tbody>\n</table>\n</div>"
     },
     "execution_count": 27,
     "metadata": {},
     "output_type": "execute_result"
    }
   ],
   "source": [
    "df_staging = pd.merge(user_product_total_orders, user_total_orders, on='user_id', how='left')\n",
    "\n",
    "df_staging.head()"
   ]
  },
  {
   "cell_type": "markdown",
   "metadata": {},
   "source": [
    "This brings in the individual user's total order count."
   ]
  },
  {
   "cell_type": "code",
   "execution_count": 28,
   "metadata": {},
   "outputs": [
    {
     "data": {
      "text/plain": "   user_id  product_id  user_product_total_orders  \\\n0        1         196                         10   \n1        1       10258                          9   \n2        1       10326                          1   \n3        1       12427                         10   \n4        1       13032                          3   \n\n   user_product_total_orders_log  user_total_orders  user_total_orders_log  \\\n0                       2.302585                 10               2.302585   \n1                       2.197225                 10               2.302585   \n2                       0.000000                 10               2.302585   \n3                       2.302585                 10               2.302585   \n4                       1.098612                 10               2.302585   \n\n   user_total_orders_boxcox  boxcox_lambda  product_total_orders  \\\n0                  1.744875      -0.253166                 35791   \n1                  1.744875      -0.253166                  1946   \n2                  1.744875      -0.253166                  5526   \n3                  1.744875      -0.253166                  6476   \n4                  1.744875      -0.253166                  3751   \n\n   product_total_orders_log  \n0                 10.485452  \n1                  7.573531  \n2                  8.617220  \n3                  8.775858  \n4                  8.229778  ",
      "text/html": "<div>\n<style scoped>\n    .dataframe tbody tr th:only-of-type {\n        vertical-align: middle;\n    }\n\n    .dataframe tbody tr th {\n        vertical-align: top;\n    }\n\n    .dataframe thead th {\n        text-align: right;\n    }\n</style>\n<table border=\"1\" class=\"dataframe\">\n  <thead>\n    <tr style=\"text-align: right;\">\n      <th></th>\n      <th>user_id</th>\n      <th>product_id</th>\n      <th>user_product_total_orders</th>\n      <th>user_product_total_orders_log</th>\n      <th>user_total_orders</th>\n      <th>user_total_orders_log</th>\n      <th>user_total_orders_boxcox</th>\n      <th>boxcox_lambda</th>\n      <th>product_total_orders</th>\n      <th>product_total_orders_log</th>\n    </tr>\n  </thead>\n  <tbody>\n    <tr>\n      <th>0</th>\n      <td>1</td>\n      <td>196</td>\n      <td>10</td>\n      <td>2.302585</td>\n      <td>10</td>\n      <td>2.302585</td>\n      <td>1.744875</td>\n      <td>-0.253166</td>\n      <td>35791</td>\n      <td>10.485452</td>\n    </tr>\n    <tr>\n      <th>1</th>\n      <td>1</td>\n      <td>10258</td>\n      <td>9</td>\n      <td>2.197225</td>\n      <td>10</td>\n      <td>2.302585</td>\n      <td>1.744875</td>\n      <td>-0.253166</td>\n      <td>1946</td>\n      <td>7.573531</td>\n    </tr>\n    <tr>\n      <th>2</th>\n      <td>1</td>\n      <td>10326</td>\n      <td>1</td>\n      <td>0.000000</td>\n      <td>10</td>\n      <td>2.302585</td>\n      <td>1.744875</td>\n      <td>-0.253166</td>\n      <td>5526</td>\n      <td>8.617220</td>\n    </tr>\n    <tr>\n      <th>3</th>\n      <td>1</td>\n      <td>12427</td>\n      <td>10</td>\n      <td>2.302585</td>\n      <td>10</td>\n      <td>2.302585</td>\n      <td>1.744875</td>\n      <td>-0.253166</td>\n      <td>6476</td>\n      <td>8.775858</td>\n    </tr>\n    <tr>\n      <th>4</th>\n      <td>1</td>\n      <td>13032</td>\n      <td>3</td>\n      <td>1.098612</td>\n      <td>10</td>\n      <td>2.302585</td>\n      <td>1.744875</td>\n      <td>-0.253166</td>\n      <td>3751</td>\n      <td>8.229778</td>\n    </tr>\n  </tbody>\n</table>\n</div>"
     },
     "execution_count": 28,
     "metadata": {},
     "output_type": "execute_result"
    }
   ],
   "source": [
    "df_staging = pd.merge(df_staging, product_total_orders, on='product_id', how='left')\n",
    "\n",
    "df_staging.head()"
   ]
  },
  {
   "cell_type": "markdown",
   "metadata": {},
   "source": [
    "This brings in the individual product's total order count."
   ]
  },
  {
   "cell_type": "markdown",
   "metadata": {},
   "source": [
    "## Training Data"
   ]
  },
  {
   "cell_type": "code",
   "execution_count": 29,
   "metadata": {},
   "outputs": [
    {
     "data": {
      "text/plain": "    user_id eval_set  order_id\n10        1    train   1187899\n25        2    train   1492625\n38        3     test   2774568\n44        4     test    329954\n49        5    train   2196797\n53        6     test   1528013\n74        7    train    525192\n78        8    train    880375\n82        9    train   1094988\n88       10    train   1822501",
      "text/html": "<div>\n<style scoped>\n    .dataframe tbody tr th:only-of-type {\n        vertical-align: middle;\n    }\n\n    .dataframe tbody tr th {\n        vertical-align: top;\n    }\n\n    .dataframe thead th {\n        text-align: right;\n    }\n</style>\n<table border=\"1\" class=\"dataframe\">\n  <thead>\n    <tr style=\"text-align: right;\">\n      <th></th>\n      <th>user_id</th>\n      <th>eval_set</th>\n      <th>order_id</th>\n    </tr>\n  </thead>\n  <tbody>\n    <tr>\n      <th>10</th>\n      <td>1</td>\n      <td>train</td>\n      <td>1187899</td>\n    </tr>\n    <tr>\n      <th>25</th>\n      <td>2</td>\n      <td>train</td>\n      <td>1492625</td>\n    </tr>\n    <tr>\n      <th>38</th>\n      <td>3</td>\n      <td>test</td>\n      <td>2774568</td>\n    </tr>\n    <tr>\n      <th>44</th>\n      <td>4</td>\n      <td>test</td>\n      <td>329954</td>\n    </tr>\n    <tr>\n      <th>49</th>\n      <td>5</td>\n      <td>train</td>\n      <td>2196797</td>\n    </tr>\n    <tr>\n      <th>53</th>\n      <td>6</td>\n      <td>test</td>\n      <td>1528013</td>\n    </tr>\n    <tr>\n      <th>74</th>\n      <td>7</td>\n      <td>train</td>\n      <td>525192</td>\n    </tr>\n    <tr>\n      <th>78</th>\n      <td>8</td>\n      <td>train</td>\n      <td>880375</td>\n    </tr>\n    <tr>\n      <th>82</th>\n      <td>9</td>\n      <td>train</td>\n      <td>1094988</td>\n    </tr>\n    <tr>\n      <th>88</th>\n      <td>10</td>\n      <td>train</td>\n      <td>1822501</td>\n    </tr>\n  </tbody>\n</table>\n</div>"
     },
     "execution_count": 29,
     "metadata": {},
     "output_type": "execute_result"
    }
   ],
   "source": [
    "df_orders_future = df_orders[((df_orders.eval_set=='train') | (df_orders.eval_set=='test'))]\n",
    "df_orders_future = df_orders_future[ ['user_id', 'eval_set', 'order_id'] ]\n",
    "\n",
    "df_orders_future.head(10)"
   ]
  },
  {
   "cell_type": "markdown",
   "metadata": {},
   "source": [
    "Now that we have extracted all the orders that were not prior orders, we have a picture of all the orders that will need to be predicted.  Recall that test orders are orders that will need to be predicted for submission in order to be scored in the Kaggle competition, and are not included in the tradition test segment of a train test split."
   ]
  },
  {
   "cell_type": "code",
   "execution_count": 30,
   "metadata": {},
   "outputs": [
    {
     "data": {
      "text/plain": "   user_id  product_id  user_total_orders_boxcox  product_total_orders_log  \\\n0        1         196                  1.744875                 10.485452   \n1        1       10258                  1.744875                  7.573531   \n2        1       10326                  1.744875                  8.617220   \n3        1       12427                  1.744875                  8.775858   \n4        1       13032                  1.744875                  8.229778   \n5        1       13176                  1.744875                 12.846478   \n6        1       14084                  1.744875                  9.676273   \n7        1       17122                  1.744875                  9.538204   \n8        1       25133                  1.744875                  8.731659   \n9        1       26088                  1.744875                  7.833204   \n\n   user_product_total_orders_log eval_set  order_id  \n0                       2.302585    train   1187899  \n1                       2.197225    train   1187899  \n2                       0.000000    train   1187899  \n3                       2.302585    train   1187899  \n4                       1.098612    train   1187899  \n5                       0.693147    train   1187899  \n6                       0.000000    train   1187899  \n7                       0.000000    train   1187899  \n8                       2.079442    train   1187899  \n9                       0.693147    train   1187899  ",
      "text/html": "<div>\n<style scoped>\n    .dataframe tbody tr th:only-of-type {\n        vertical-align: middle;\n    }\n\n    .dataframe tbody tr th {\n        vertical-align: top;\n    }\n\n    .dataframe thead th {\n        text-align: right;\n    }\n</style>\n<table border=\"1\" class=\"dataframe\">\n  <thead>\n    <tr style=\"text-align: right;\">\n      <th></th>\n      <th>user_id</th>\n      <th>product_id</th>\n      <th>user_total_orders_boxcox</th>\n      <th>product_total_orders_log</th>\n      <th>user_product_total_orders_log</th>\n      <th>eval_set</th>\n      <th>order_id</th>\n    </tr>\n  </thead>\n  <tbody>\n    <tr>\n      <th>0</th>\n      <td>1</td>\n      <td>196</td>\n      <td>1.744875</td>\n      <td>10.485452</td>\n      <td>2.302585</td>\n      <td>train</td>\n      <td>1187899</td>\n    </tr>\n    <tr>\n      <th>1</th>\n      <td>1</td>\n      <td>10258</td>\n      <td>1.744875</td>\n      <td>7.573531</td>\n      <td>2.197225</td>\n      <td>train</td>\n      <td>1187899</td>\n    </tr>\n    <tr>\n      <th>2</th>\n      <td>1</td>\n      <td>10326</td>\n      <td>1.744875</td>\n      <td>8.617220</td>\n      <td>0.000000</td>\n      <td>train</td>\n      <td>1187899</td>\n    </tr>\n    <tr>\n      <th>3</th>\n      <td>1</td>\n      <td>12427</td>\n      <td>1.744875</td>\n      <td>8.775858</td>\n      <td>2.302585</td>\n      <td>train</td>\n      <td>1187899</td>\n    </tr>\n    <tr>\n      <th>4</th>\n      <td>1</td>\n      <td>13032</td>\n      <td>1.744875</td>\n      <td>8.229778</td>\n      <td>1.098612</td>\n      <td>train</td>\n      <td>1187899</td>\n    </tr>\n    <tr>\n      <th>5</th>\n      <td>1</td>\n      <td>13176</td>\n      <td>1.744875</td>\n      <td>12.846478</td>\n      <td>0.693147</td>\n      <td>train</td>\n      <td>1187899</td>\n    </tr>\n    <tr>\n      <th>6</th>\n      <td>1</td>\n      <td>14084</td>\n      <td>1.744875</td>\n      <td>9.676273</td>\n      <td>0.000000</td>\n      <td>train</td>\n      <td>1187899</td>\n    </tr>\n    <tr>\n      <th>7</th>\n      <td>1</td>\n      <td>17122</td>\n      <td>1.744875</td>\n      <td>9.538204</td>\n      <td>0.000000</td>\n      <td>train</td>\n      <td>1187899</td>\n    </tr>\n    <tr>\n      <th>8</th>\n      <td>1</td>\n      <td>25133</td>\n      <td>1.744875</td>\n      <td>8.731659</td>\n      <td>2.079442</td>\n      <td>train</td>\n      <td>1187899</td>\n    </tr>\n    <tr>\n      <th>9</th>\n      <td>1</td>\n      <td>26088</td>\n      <td>1.744875</td>\n      <td>7.833204</td>\n      <td>0.693147</td>\n      <td>train</td>\n      <td>1187899</td>\n    </tr>\n  </tbody>\n</table>\n</div>"
     },
     "execution_count": 30,
     "metadata": {},
     "output_type": "execute_result"
    }
   ],
   "source": [
    "df_staging = pd.merge(df_staging, df_orders_future, on='user_id', how='left')\n",
    "df_staging = df_staging[['user_id', 'product_id', 'user_total_orders_boxcox', 'product_total_orders_log', 'user_product_total_orders_log', 'eval_set', 'order_id']]\n",
    "\n",
    "df_staging.head(10)"
   ]
  },
  {
   "cell_type": "markdown",
   "metadata": {},
   "source": [
    "The original fields are dropped in favor of their logarithmic counterparts."
   ]
  },
  {
   "cell_type": "code",
   "execution_count": 31,
   "metadata": {},
   "outputs": [
    {
     "data": {
      "text/plain": "   user_id  product_id  user_total_orders_boxcox  product_total_orders_log  \\\n0        1         196                  1.744875                 10.485452   \n1        1       10258                  1.744875                  7.573531   \n2        1       10326                  1.744875                  8.617220   \n3        1       12427                  1.744875                  8.775858   \n4        1       13032                  1.744875                  8.229778   \n\n   user_product_total_orders_log eval_set  order_id  \n0                       2.302585    train   1187899  \n1                       2.197225    train   1187899  \n2                       0.000000    train   1187899  \n3                       2.302585    train   1187899  \n4                       1.098612    train   1187899  ",
      "text/html": "<div>\n<style scoped>\n    .dataframe tbody tr th:only-of-type {\n        vertical-align: middle;\n    }\n\n    .dataframe tbody tr th {\n        vertical-align: top;\n    }\n\n    .dataframe thead th {\n        text-align: right;\n    }\n</style>\n<table border=\"1\" class=\"dataframe\">\n  <thead>\n    <tr style=\"text-align: right;\">\n      <th></th>\n      <th>user_id</th>\n      <th>product_id</th>\n      <th>user_total_orders_boxcox</th>\n      <th>product_total_orders_log</th>\n      <th>user_product_total_orders_log</th>\n      <th>eval_set</th>\n      <th>order_id</th>\n    </tr>\n  </thead>\n  <tbody>\n    <tr>\n      <th>0</th>\n      <td>1</td>\n      <td>196</td>\n      <td>1.744875</td>\n      <td>10.485452</td>\n      <td>2.302585</td>\n      <td>train</td>\n      <td>1187899</td>\n    </tr>\n    <tr>\n      <th>1</th>\n      <td>1</td>\n      <td>10258</td>\n      <td>1.744875</td>\n      <td>7.573531</td>\n      <td>2.197225</td>\n      <td>train</td>\n      <td>1187899</td>\n    </tr>\n    <tr>\n      <th>2</th>\n      <td>1</td>\n      <td>10326</td>\n      <td>1.744875</td>\n      <td>8.617220</td>\n      <td>0.000000</td>\n      <td>train</td>\n      <td>1187899</td>\n    </tr>\n    <tr>\n      <th>3</th>\n      <td>1</td>\n      <td>12427</td>\n      <td>1.744875</td>\n      <td>8.775858</td>\n      <td>2.302585</td>\n      <td>train</td>\n      <td>1187899</td>\n    </tr>\n    <tr>\n      <th>4</th>\n      <td>1</td>\n      <td>13032</td>\n      <td>1.744875</td>\n      <td>8.229778</td>\n      <td>1.098612</td>\n      <td>train</td>\n      <td>1187899</td>\n    </tr>\n  </tbody>\n</table>\n</div>"
     },
     "execution_count": 31,
     "metadata": {},
     "output_type": "execute_result"
    }
   ],
   "source": [
    "df_train = df_staging[df_staging.eval_set=='train']\n",
    "\n",
    "df_train.head()"
   ]
  },
  {
   "cell_type": "markdown",
   "metadata": {},
   "source": [
    "Recall that the target variable for reordered exists in the original training data frame, so that must be joined back."
   ]
  },
  {
   "cell_type": "code",
   "execution_count": 32,
   "metadata": {},
   "outputs": [
    {
     "data": {
      "text/plain": "   user_id  product_id  user_total_orders_boxcox  product_total_orders_log  \\\n0        1         196                  1.744875                 10.485452   \n1        1       10258                  1.744875                  7.573531   \n2        1       10326                  1.744875                  8.617220   \n3        1       12427                  1.744875                  8.775858   \n4        1       13032                  1.744875                  8.229778   \n5        1       13176                  1.744875                 12.846478   \n6        1       14084                  1.744875                  9.676273   \n7        1       17122                  1.744875                  9.538204   \n8        1       25133                  1.744875                  8.731659   \n9        1       26088                  1.744875                  7.833204   \n\n   user_product_total_orders_log eval_set  order_id  reordered  \n0                       2.302585    train   1187899        1.0  \n1                       2.197225    train   1187899        1.0  \n2                       0.000000    train   1187899        NaN  \n3                       2.302585    train   1187899        NaN  \n4                       1.098612    train   1187899        1.0  \n5                       0.693147    train   1187899        NaN  \n6                       0.000000    train   1187899        NaN  \n7                       0.000000    train   1187899        NaN  \n8                       2.079442    train   1187899        1.0  \n9                       0.693147    train   1187899        1.0  ",
      "text/html": "<div>\n<style scoped>\n    .dataframe tbody tr th:only-of-type {\n        vertical-align: middle;\n    }\n\n    .dataframe tbody tr th {\n        vertical-align: top;\n    }\n\n    .dataframe thead th {\n        text-align: right;\n    }\n</style>\n<table border=\"1\" class=\"dataframe\">\n  <thead>\n    <tr style=\"text-align: right;\">\n      <th></th>\n      <th>user_id</th>\n      <th>product_id</th>\n      <th>user_total_orders_boxcox</th>\n      <th>product_total_orders_log</th>\n      <th>user_product_total_orders_log</th>\n      <th>eval_set</th>\n      <th>order_id</th>\n      <th>reordered</th>\n    </tr>\n  </thead>\n  <tbody>\n    <tr>\n      <th>0</th>\n      <td>1</td>\n      <td>196</td>\n      <td>1.744875</td>\n      <td>10.485452</td>\n      <td>2.302585</td>\n      <td>train</td>\n      <td>1187899</td>\n      <td>1.0</td>\n    </tr>\n    <tr>\n      <th>1</th>\n      <td>1</td>\n      <td>10258</td>\n      <td>1.744875</td>\n      <td>7.573531</td>\n      <td>2.197225</td>\n      <td>train</td>\n      <td>1187899</td>\n      <td>1.0</td>\n    </tr>\n    <tr>\n      <th>2</th>\n      <td>1</td>\n      <td>10326</td>\n      <td>1.744875</td>\n      <td>8.617220</td>\n      <td>0.000000</td>\n      <td>train</td>\n      <td>1187899</td>\n      <td>NaN</td>\n    </tr>\n    <tr>\n      <th>3</th>\n      <td>1</td>\n      <td>12427</td>\n      <td>1.744875</td>\n      <td>8.775858</td>\n      <td>2.302585</td>\n      <td>train</td>\n      <td>1187899</td>\n      <td>NaN</td>\n    </tr>\n    <tr>\n      <th>4</th>\n      <td>1</td>\n      <td>13032</td>\n      <td>1.744875</td>\n      <td>8.229778</td>\n      <td>1.098612</td>\n      <td>train</td>\n      <td>1187899</td>\n      <td>1.0</td>\n    </tr>\n    <tr>\n      <th>5</th>\n      <td>1</td>\n      <td>13176</td>\n      <td>1.744875</td>\n      <td>12.846478</td>\n      <td>0.693147</td>\n      <td>train</td>\n      <td>1187899</td>\n      <td>NaN</td>\n    </tr>\n    <tr>\n      <th>6</th>\n      <td>1</td>\n      <td>14084</td>\n      <td>1.744875</td>\n      <td>9.676273</td>\n      <td>0.000000</td>\n      <td>train</td>\n      <td>1187899</td>\n      <td>NaN</td>\n    </tr>\n    <tr>\n      <th>7</th>\n      <td>1</td>\n      <td>17122</td>\n      <td>1.744875</td>\n      <td>9.538204</td>\n      <td>0.000000</td>\n      <td>train</td>\n      <td>1187899</td>\n      <td>NaN</td>\n    </tr>\n    <tr>\n      <th>8</th>\n      <td>1</td>\n      <td>25133</td>\n      <td>1.744875</td>\n      <td>8.731659</td>\n      <td>2.079442</td>\n      <td>train</td>\n      <td>1187899</td>\n      <td>1.0</td>\n    </tr>\n    <tr>\n      <th>9</th>\n      <td>1</td>\n      <td>26088</td>\n      <td>1.744875</td>\n      <td>7.833204</td>\n      <td>0.693147</td>\n      <td>train</td>\n      <td>1187899</td>\n      <td>1.0</td>\n    </tr>\n  </tbody>\n</table>\n</div>"
     },
     "execution_count": 32,
     "metadata": {},
     "output_type": "execute_result"
    }
   ],
   "source": [
    "df_train = pd.merge(df_train, df_order_products_train[['product_id','order_id', 'reordered']], on=['product_id','order_id'], how='left' )\n",
    "\n",
    "df_train.head(10)"
   ]
  },
  {
   "cell_type": "markdown",
   "metadata": {},
   "source": [
    "Again, recall that the unique identifier is a composite of the product_id and order_id.  Notice that there are null values for reordered which signify it was not a reorder."
   ]
  },
  {
   "cell_type": "code",
   "execution_count": 33,
   "metadata": {},
   "outputs": [
    {
     "data": {
      "text/plain": "   user_id  product_id  user_total_orders_boxcox  product_total_orders_log  \\\n0        1         196                  1.744875                 10.485452   \n1        1       10258                  1.744875                  7.573531   \n2        1       10326                  1.744875                  8.617220   \n3        1       12427                  1.744875                  8.775858   \n4        1       13032                  1.744875                  8.229778   \n5        1       13176                  1.744875                 12.846478   \n6        1       14084                  1.744875                  9.676273   \n7        1       17122                  1.744875                  9.538204   \n8        1       25133                  1.744875                  8.731659   \n9        1       26088                  1.744875                  7.833204   \n\n   user_product_total_orders_log eval_set  order_id  reordered  \n0                       2.302585    train   1187899        1.0  \n1                       2.197225    train   1187899        1.0  \n2                       0.000000    train   1187899        0.0  \n3                       2.302585    train   1187899        0.0  \n4                       1.098612    train   1187899        1.0  \n5                       0.693147    train   1187899        0.0  \n6                       0.000000    train   1187899        0.0  \n7                       0.000000    train   1187899        0.0  \n8                       2.079442    train   1187899        1.0  \n9                       0.693147    train   1187899        1.0  ",
      "text/html": "<div>\n<style scoped>\n    .dataframe tbody tr th:only-of-type {\n        vertical-align: middle;\n    }\n\n    .dataframe tbody tr th {\n        vertical-align: top;\n    }\n\n    .dataframe thead th {\n        text-align: right;\n    }\n</style>\n<table border=\"1\" class=\"dataframe\">\n  <thead>\n    <tr style=\"text-align: right;\">\n      <th></th>\n      <th>user_id</th>\n      <th>product_id</th>\n      <th>user_total_orders_boxcox</th>\n      <th>product_total_orders_log</th>\n      <th>user_product_total_orders_log</th>\n      <th>eval_set</th>\n      <th>order_id</th>\n      <th>reordered</th>\n    </tr>\n  </thead>\n  <tbody>\n    <tr>\n      <th>0</th>\n      <td>1</td>\n      <td>196</td>\n      <td>1.744875</td>\n      <td>10.485452</td>\n      <td>2.302585</td>\n      <td>train</td>\n      <td>1187899</td>\n      <td>1.0</td>\n    </tr>\n    <tr>\n      <th>1</th>\n      <td>1</td>\n      <td>10258</td>\n      <td>1.744875</td>\n      <td>7.573531</td>\n      <td>2.197225</td>\n      <td>train</td>\n      <td>1187899</td>\n      <td>1.0</td>\n    </tr>\n    <tr>\n      <th>2</th>\n      <td>1</td>\n      <td>10326</td>\n      <td>1.744875</td>\n      <td>8.617220</td>\n      <td>0.000000</td>\n      <td>train</td>\n      <td>1187899</td>\n      <td>0.0</td>\n    </tr>\n    <tr>\n      <th>3</th>\n      <td>1</td>\n      <td>12427</td>\n      <td>1.744875</td>\n      <td>8.775858</td>\n      <td>2.302585</td>\n      <td>train</td>\n      <td>1187899</td>\n      <td>0.0</td>\n    </tr>\n    <tr>\n      <th>4</th>\n      <td>1</td>\n      <td>13032</td>\n      <td>1.744875</td>\n      <td>8.229778</td>\n      <td>1.098612</td>\n      <td>train</td>\n      <td>1187899</td>\n      <td>1.0</td>\n    </tr>\n    <tr>\n      <th>5</th>\n      <td>1</td>\n      <td>13176</td>\n      <td>1.744875</td>\n      <td>12.846478</td>\n      <td>0.693147</td>\n      <td>train</td>\n      <td>1187899</td>\n      <td>0.0</td>\n    </tr>\n    <tr>\n      <th>6</th>\n      <td>1</td>\n      <td>14084</td>\n      <td>1.744875</td>\n      <td>9.676273</td>\n      <td>0.000000</td>\n      <td>train</td>\n      <td>1187899</td>\n      <td>0.0</td>\n    </tr>\n    <tr>\n      <th>7</th>\n      <td>1</td>\n      <td>17122</td>\n      <td>1.744875</td>\n      <td>9.538204</td>\n      <td>0.000000</td>\n      <td>train</td>\n      <td>1187899</td>\n      <td>0.0</td>\n    </tr>\n    <tr>\n      <th>8</th>\n      <td>1</td>\n      <td>25133</td>\n      <td>1.744875</td>\n      <td>8.731659</td>\n      <td>2.079442</td>\n      <td>train</td>\n      <td>1187899</td>\n      <td>1.0</td>\n    </tr>\n    <tr>\n      <th>9</th>\n      <td>1</td>\n      <td>26088</td>\n      <td>1.744875</td>\n      <td>7.833204</td>\n      <td>0.693147</td>\n      <td>train</td>\n      <td>1187899</td>\n      <td>1.0</td>\n    </tr>\n  </tbody>\n</table>\n</div>"
     },
     "execution_count": 33,
     "metadata": {},
     "output_type": "execute_result"
    }
   ],
   "source": [
    "df_train['reordered'] = df_train['reordered'].fillna(0)\n",
    "\n",
    "df_train.head(10)"
   ]
  },
  {
   "cell_type": "markdown",
   "metadata": {},
   "source": [
    "The nulls are reclassified as 0 to register as a correct input in our machine learning model."
   ]
  },
  {
   "cell_type": "code",
   "execution_count": 34,
   "metadata": {},
   "outputs": [
    {
     "data": {
      "text/plain": "                    user_total_orders_boxcox  product_total_orders_log  \\\nuser_id product_id                                                       \n1       196                         1.744875                 10.485452   \n        10258                       1.744875                  7.573531   \n        10326                       1.744875                  8.617220   \n        12427                       1.744875                  8.775858   \n        13032                       1.744875                  8.229778   \n        13176                       1.744875                 12.846478   \n        14084                       1.744875                  9.676273   \n        17122                       1.744875                  9.538204   \n        25133                       1.744875                  8.731659   \n        26088                       1.744875                  7.833204   \n\n                    user_product_total_orders_log eval_set  order_id  \\\nuser_id product_id                                                     \n1       196                              2.302585    train   1187899   \n        10258                            2.197225    train   1187899   \n        10326                            0.000000    train   1187899   \n        12427                            2.302585    train   1187899   \n        13032                            1.098612    train   1187899   \n        13176                            0.693147    train   1187899   \n        14084                            0.000000    train   1187899   \n        17122                            0.000000    train   1187899   \n        25133                            2.079442    train   1187899   \n        26088                            0.693147    train   1187899   \n\n                    reordered  \nuser_id product_id             \n1       196               1.0  \n        10258             1.0  \n        10326             0.0  \n        12427             0.0  \n        13032             1.0  \n        13176             0.0  \n        14084             0.0  \n        17122             0.0  \n        25133             1.0  \n        26088             1.0  ",
      "text/html": "<div>\n<style scoped>\n    .dataframe tbody tr th:only-of-type {\n        vertical-align: middle;\n    }\n\n    .dataframe tbody tr th {\n        vertical-align: top;\n    }\n\n    .dataframe thead th {\n        text-align: right;\n    }\n</style>\n<table border=\"1\" class=\"dataframe\">\n  <thead>\n    <tr style=\"text-align: right;\">\n      <th></th>\n      <th></th>\n      <th>user_total_orders_boxcox</th>\n      <th>product_total_orders_log</th>\n      <th>user_product_total_orders_log</th>\n      <th>eval_set</th>\n      <th>order_id</th>\n      <th>reordered</th>\n    </tr>\n    <tr>\n      <th>user_id</th>\n      <th>product_id</th>\n      <th></th>\n      <th></th>\n      <th></th>\n      <th></th>\n      <th></th>\n      <th></th>\n    </tr>\n  </thead>\n  <tbody>\n    <tr>\n      <th rowspan=\"10\" valign=\"top\">1</th>\n      <th>196</th>\n      <td>1.744875</td>\n      <td>10.485452</td>\n      <td>2.302585</td>\n      <td>train</td>\n      <td>1187899</td>\n      <td>1.0</td>\n    </tr>\n    <tr>\n      <th>10258</th>\n      <td>1.744875</td>\n      <td>7.573531</td>\n      <td>2.197225</td>\n      <td>train</td>\n      <td>1187899</td>\n      <td>1.0</td>\n    </tr>\n    <tr>\n      <th>10326</th>\n      <td>1.744875</td>\n      <td>8.617220</td>\n      <td>0.000000</td>\n      <td>train</td>\n      <td>1187899</td>\n      <td>0.0</td>\n    </tr>\n    <tr>\n      <th>12427</th>\n      <td>1.744875</td>\n      <td>8.775858</td>\n      <td>2.302585</td>\n      <td>train</td>\n      <td>1187899</td>\n      <td>0.0</td>\n    </tr>\n    <tr>\n      <th>13032</th>\n      <td>1.744875</td>\n      <td>8.229778</td>\n      <td>1.098612</td>\n      <td>train</td>\n      <td>1187899</td>\n      <td>1.0</td>\n    </tr>\n    <tr>\n      <th>13176</th>\n      <td>1.744875</td>\n      <td>12.846478</td>\n      <td>0.693147</td>\n      <td>train</td>\n      <td>1187899</td>\n      <td>0.0</td>\n    </tr>\n    <tr>\n      <th>14084</th>\n      <td>1.744875</td>\n      <td>9.676273</td>\n      <td>0.000000</td>\n      <td>train</td>\n      <td>1187899</td>\n      <td>0.0</td>\n    </tr>\n    <tr>\n      <th>17122</th>\n      <td>1.744875</td>\n      <td>9.538204</td>\n      <td>0.000000</td>\n      <td>train</td>\n      <td>1187899</td>\n      <td>0.0</td>\n    </tr>\n    <tr>\n      <th>25133</th>\n      <td>1.744875</td>\n      <td>8.731659</td>\n      <td>2.079442</td>\n      <td>train</td>\n      <td>1187899</td>\n      <td>1.0</td>\n    </tr>\n    <tr>\n      <th>26088</th>\n      <td>1.744875</td>\n      <td>7.833204</td>\n      <td>0.693147</td>\n      <td>train</td>\n      <td>1187899</td>\n      <td>1.0</td>\n    </tr>\n  </tbody>\n</table>\n</div>"
     },
     "execution_count": 34,
     "metadata": {},
     "output_type": "execute_result"
    }
   ],
   "source": [
    "df_train = df_train.set_index(['user_id', 'product_id'])\n",
    "\n",
    "df_train.head(10)"
   ]
  },
  {
   "cell_type": "markdown",
   "metadata": {},
   "source": [
    "User and product IDs are not used as features in the model and only as identifiers, so they are set as indices."
   ]
  },
  {
   "cell_type": "code",
   "execution_count": 35,
   "metadata": {},
   "outputs": [
    {
     "data": {
      "text/plain": "                    user_total_orders_boxcox  product_total_orders_log  \\\nuser_id product_id                                                       \n1       196                         1.744875                 10.485452   \n        10258                       1.744875                  7.573531   \n        10326                       1.744875                  8.617220   \n        12427                       1.744875                  8.775858   \n        13032                       1.744875                  8.229778   \n        13176                       1.744875                 12.846478   \n        14084                       1.744875                  9.676273   \n        17122                       1.744875                  9.538204   \n        25133                       1.744875                  8.731659   \n        26088                       1.744875                  7.833204   \n\n                    user_product_total_orders_log  reordered  \nuser_id product_id                                            \n1       196                              2.302585        1.0  \n        10258                            2.197225        1.0  \n        10326                            0.000000        0.0  \n        12427                            2.302585        0.0  \n        13032                            1.098612        1.0  \n        13176                            0.693147        0.0  \n        14084                            0.000000        0.0  \n        17122                            0.000000        0.0  \n        25133                            2.079442        1.0  \n        26088                            0.693147        1.0  ",
      "text/html": "<div>\n<style scoped>\n    .dataframe tbody tr th:only-of-type {\n        vertical-align: middle;\n    }\n\n    .dataframe tbody tr th {\n        vertical-align: top;\n    }\n\n    .dataframe thead th {\n        text-align: right;\n    }\n</style>\n<table border=\"1\" class=\"dataframe\">\n  <thead>\n    <tr style=\"text-align: right;\">\n      <th></th>\n      <th></th>\n      <th>user_total_orders_boxcox</th>\n      <th>product_total_orders_log</th>\n      <th>user_product_total_orders_log</th>\n      <th>reordered</th>\n    </tr>\n    <tr>\n      <th>user_id</th>\n      <th>product_id</th>\n      <th></th>\n      <th></th>\n      <th></th>\n      <th></th>\n    </tr>\n  </thead>\n  <tbody>\n    <tr>\n      <th rowspan=\"10\" valign=\"top\">1</th>\n      <th>196</th>\n      <td>1.744875</td>\n      <td>10.485452</td>\n      <td>2.302585</td>\n      <td>1.0</td>\n    </tr>\n    <tr>\n      <th>10258</th>\n      <td>1.744875</td>\n      <td>7.573531</td>\n      <td>2.197225</td>\n      <td>1.0</td>\n    </tr>\n    <tr>\n      <th>10326</th>\n      <td>1.744875</td>\n      <td>8.617220</td>\n      <td>0.000000</td>\n      <td>0.0</td>\n    </tr>\n    <tr>\n      <th>12427</th>\n      <td>1.744875</td>\n      <td>8.775858</td>\n      <td>2.302585</td>\n      <td>0.0</td>\n    </tr>\n    <tr>\n      <th>13032</th>\n      <td>1.744875</td>\n      <td>8.229778</td>\n      <td>1.098612</td>\n      <td>1.0</td>\n    </tr>\n    <tr>\n      <th>13176</th>\n      <td>1.744875</td>\n      <td>12.846478</td>\n      <td>0.693147</td>\n      <td>0.0</td>\n    </tr>\n    <tr>\n      <th>14084</th>\n      <td>1.744875</td>\n      <td>9.676273</td>\n      <td>0.000000</td>\n      <td>0.0</td>\n    </tr>\n    <tr>\n      <th>17122</th>\n      <td>1.744875</td>\n      <td>9.538204</td>\n      <td>0.000000</td>\n      <td>0.0</td>\n    </tr>\n    <tr>\n      <th>25133</th>\n      <td>1.744875</td>\n      <td>8.731659</td>\n      <td>2.079442</td>\n      <td>1.0</td>\n    </tr>\n    <tr>\n      <th>26088</th>\n      <td>1.744875</td>\n      <td>7.833204</td>\n      <td>0.693147</td>\n      <td>1.0</td>\n    </tr>\n  </tbody>\n</table>\n</div>"
     },
     "execution_count": 35,
     "metadata": {},
     "output_type": "execute_result"
    }
   ],
   "source": [
    "X_non_predictor_variables = ['eval_set', 'order_id']\n",
    "\n",
    "df_train = df_train.drop(X_non_predictor_variables, axis=1)\n",
    "\n",
    "df_train.head(10)"
   ]
  },
  {
   "cell_type": "markdown",
   "metadata": {},
   "source": [
    "The data frame is adjusted to set the user-product ID combination as the index and to remove any fields that will not be used to predict whether a user reorders a product."
   ]
  },
  {
   "cell_type": "markdown",
   "metadata": {},
   "source": [
    "## Test Data"
   ]
  },
  {
   "cell_type": "code",
   "execution_count": 36,
   "metadata": {},
   "outputs": [
    {
     "ename": "ModuleNotFoundError",
     "evalue": "No module named 'sklearn'",
     "output_type": "error",
     "traceback": [
      "\u001B[1;31m---------------------------------------------------------------------------\u001B[0m",
      "\u001B[1;31mModuleNotFoundError\u001B[0m                       Traceback (most recent call last)",
      "\u001B[1;32m~\\AppData\\Local\\Temp/ipykernel_40292/3992510709.py\u001B[0m in \u001B[0;36m<module>\u001B[1;34m\u001B[0m\n\u001B[1;32m----> 1\u001B[1;33m \u001B[1;32mfrom\u001B[0m \u001B[0msklearn\u001B[0m\u001B[1;33m.\u001B[0m\u001B[0mmodel_selection\u001B[0m \u001B[1;32mimport\u001B[0m \u001B[0mtrain_test_split\u001B[0m\u001B[1;33m\u001B[0m\u001B[1;33m\u001B[0m\u001B[0m\n\u001B[0m\u001B[0;32m      2\u001B[0m \u001B[1;33m\u001B[0m\u001B[0m\n",
      "\u001B[1;31mModuleNotFoundError\u001B[0m: No module named 'sklearn'"
     ]
    }
   ],
   "source": [
    "from sklearn.model_selection import train_test_split\n"
   ]
  },
  {
   "cell_type": "code",
   "execution_count": null,
   "metadata": {},
   "outputs": [],
   "source": [
    "y_target = 'reordered'\n",
    "\n",
    "X_train, X_test, y_train, y_test = train_test_split(df_train.drop(y_target, axis=1), df_train.reordered, test_size=0.8, random_state=101)"
   ]
  },
  {
   "cell_type": "markdown",
   "metadata": {},
   "source": [
    "## Scaling the Data"
   ]
  },
  {
   "cell_type": "code",
   "execution_count": null,
   "metadata": {},
   "outputs": [],
   "source": [
    "from sklearn.preprocessing import StandardScaler"
   ]
  },
  {
   "cell_type": "code",
   "execution_count": null,
   "metadata": {},
   "outputs": [],
   "source": [
    "sc = StandardScaler()\n",
    "X_train = sc.fit_transform(X_train)\n",
    "X_test = sc.transform(X_test)"
   ]
  },
  {
   "cell_type": "markdown",
   "metadata": {},
   "source": [
    "## Evaluation Data"
   ]
  },
  {
   "cell_type": "code",
   "execution_count": 37,
   "metadata": {},
   "outputs": [
    {
     "data": {
      "text/plain": "                    user_total_orders_boxcox  product_total_orders_log  \\\nuser_id product_id                                                       \n3       248                         1.844344                  8.759512   \n        1005                        1.844344                  6.137727   \n        1819                        1.844344                  7.793174   \n        7503                        1.844344                  9.431402   \n        8021                        1.844344                 10.235091   \n        9387                        1.844344                 10.496455   \n        12845                       1.844344                  9.213037   \n        14992                       1.844344                 10.277428   \n        15143                       1.844344                  8.145260   \n        16797                       1.844344                 11.870257   \n\n                    user_product_total_orders_log  \nuser_id product_id                                 \n3       248                              0.000000  \n        1005                             0.000000  \n        1819                             1.098612  \n        7503                             0.000000  \n        8021                             0.000000  \n        9387                             1.609438  \n        12845                            0.000000  \n        14992                            0.693147  \n        15143                            0.000000  \n        16797                            1.098612  ",
      "text/html": "<div>\n<style scoped>\n    .dataframe tbody tr th:only-of-type {\n        vertical-align: middle;\n    }\n\n    .dataframe tbody tr th {\n        vertical-align: top;\n    }\n\n    .dataframe thead th {\n        text-align: right;\n    }\n</style>\n<table border=\"1\" class=\"dataframe\">\n  <thead>\n    <tr style=\"text-align: right;\">\n      <th></th>\n      <th></th>\n      <th>user_total_orders_boxcox</th>\n      <th>product_total_orders_log</th>\n      <th>user_product_total_orders_log</th>\n    </tr>\n    <tr>\n      <th>user_id</th>\n      <th>product_id</th>\n      <th></th>\n      <th></th>\n      <th></th>\n    </tr>\n  </thead>\n  <tbody>\n    <tr>\n      <th rowspan=\"10\" valign=\"top\">3</th>\n      <th>248</th>\n      <td>1.844344</td>\n      <td>8.759512</td>\n      <td>0.000000</td>\n    </tr>\n    <tr>\n      <th>1005</th>\n      <td>1.844344</td>\n      <td>6.137727</td>\n      <td>0.000000</td>\n    </tr>\n    <tr>\n      <th>1819</th>\n      <td>1.844344</td>\n      <td>7.793174</td>\n      <td>1.098612</td>\n    </tr>\n    <tr>\n      <th>7503</th>\n      <td>1.844344</td>\n      <td>9.431402</td>\n      <td>0.000000</td>\n    </tr>\n    <tr>\n      <th>8021</th>\n      <td>1.844344</td>\n      <td>10.235091</td>\n      <td>0.000000</td>\n    </tr>\n    <tr>\n      <th>9387</th>\n      <td>1.844344</td>\n      <td>10.496455</td>\n      <td>1.609438</td>\n    </tr>\n    <tr>\n      <th>12845</th>\n      <td>1.844344</td>\n      <td>9.213037</td>\n      <td>0.000000</td>\n    </tr>\n    <tr>\n      <th>14992</th>\n      <td>1.844344</td>\n      <td>10.277428</td>\n      <td>0.693147</td>\n    </tr>\n    <tr>\n      <th>15143</th>\n      <td>1.844344</td>\n      <td>8.145260</td>\n      <td>0.000000</td>\n    </tr>\n    <tr>\n      <th>16797</th>\n      <td>1.844344</td>\n      <td>11.870257</td>\n      <td>1.098612</td>\n    </tr>\n  </tbody>\n</table>\n</div>"
     },
     "execution_count": 37,
     "metadata": {},
     "output_type": "execute_result"
    }
   ],
   "source": [
    "df_test = df_staging[df_staging.eval_set=='test']\n",
    "\n",
    "df_test = df_test.set_index(['user_id', 'product_id'])\n",
    "\n",
    "df_test = df_test.drop(X_non_predictor_variables, axis=1)\n",
    "\n",
    "df_test.head(10)"
   ]
  },
  {
   "cell_type": "markdown",
   "metadata": {},
   "source": [
    "The steps are applied identically to the test data set."
   ]
  },
  {
   "cell_type": "markdown",
   "metadata": {},
   "source": [
    "The challenge will be to determine what products will be in the future order based only on the information available in the prior orders."
   ]
  },
  {
   "cell_type": "markdown",
   "metadata": {},
   "source": [
    "## Model Building"
   ]
  },
  {
   "cell_type": "markdown",
   "metadata": {},
   "source": [
    "### Simple Reorder Model"
   ]
  },
  {
   "cell_type": "markdown",
   "metadata": {},
   "source": [
    "A rudimentary model may be to predict that the user would order the exact same products as their last order. We can use these as baselines to measure our model against."
   ]
  },
  {
   "cell_type": "markdown",
   "metadata": {},
   "source": [
    "For exploratory purposes, we can join the product name to provide additional insight."
   ]
  },
  {
   "cell_type": "code",
   "execution_count": 38,
   "metadata": {},
   "outputs": [
    {
     "ename": "NameError",
     "evalue": "name 'df_prior_orders' is not defined",
     "output_type": "error",
     "traceback": [
      "\u001B[1;31m---------------------------------------------------------------------------\u001B[0m",
      "\u001B[1;31mNameError\u001B[0m                                 Traceback (most recent call last)",
      "\u001B[1;32m~\\AppData\\Local\\Temp/ipykernel_40292/2740317318.py\u001B[0m in \u001B[0;36m<module>\u001B[1;34m\u001B[0m\n\u001B[1;32m----> 1\u001B[1;33m \u001B[0mdf_prior_orders_products\u001B[0m \u001B[1;33m=\u001B[0m \u001B[0mpd\u001B[0m\u001B[1;33m.\u001B[0m\u001B[0mmerge\u001B[0m\u001B[1;33m(\u001B[0m\u001B[0mdf_prior_orders\u001B[0m\u001B[1;33m,\u001B[0m \u001B[0mdf_order_products_prior\u001B[0m\u001B[1;33m,\u001B[0m \u001B[0mon\u001B[0m\u001B[1;33m=\u001B[0m\u001B[1;34m'order_id'\u001B[0m\u001B[1;33m,\u001B[0m \u001B[0mhow\u001B[0m\u001B[1;33m=\u001B[0m\u001B[1;34m'inner'\u001B[0m\u001B[1;33m)\u001B[0m\u001B[1;33m\u001B[0m\u001B[1;33m\u001B[0m\u001B[0m\n\u001B[0m\u001B[0;32m      2\u001B[0m \u001B[1;33m\u001B[0m\u001B[0m\n\u001B[0;32m      3\u001B[0m \u001B[0mdf_prior_orders_products\u001B[0m\u001B[1;33m.\u001B[0m\u001B[0mhead\u001B[0m\u001B[1;33m(\u001B[0m\u001B[1;33m)\u001B[0m\u001B[1;33m\u001B[0m\u001B[1;33m\u001B[0m\u001B[0m\n",
      "\u001B[1;31mNameError\u001B[0m: name 'df_prior_orders' is not defined"
     ]
    }
   ],
   "source": [
    "df_prior_orders_products = pd.merge(df_prior_orders, df_order_products_prior, on='order_id', how='inner')\n",
    "\n",
    "df_prior_orders_products.head()"
   ]
  },
  {
   "cell_type": "markdown",
   "metadata": {},
   "source": [
    "Now that we have a picture of a user's prior orders, we can begin a rudimentary model to predict that they will order what they did in their most recent order.  Note that this model would not account for users that have not reordered whether they were not satisfied, or are not at the point of doing so.\n",
    "\n",
    "The challenge is how do we identify their most recent order without a timestamp.  Order number will be our identifier here."
   ]
  },
  {
   "cell_type": "code",
   "execution_count": null,
   "metadata": {},
   "outputs": [],
   "source": [
    "df_prior_orders_products_group_by = df_prior_orders_products.groupby(by=['user_id']).agg({'order_number': 'max'})\n",
    "\n",
    "df_prior_orders_products_group_by"
   ]
  },
  {
   "cell_type": "markdown",
   "metadata": {},
   "source": [
    "At this point, we can filter the original data for prior orders to only include the most recent order."
   ]
  },
  {
   "cell_type": "code",
   "execution_count": null,
   "metadata": {},
   "outputs": [],
   "source": [
    "df_most_recent_prior_order = pd.merge(df_prior_orders_products, df_prior_orders_products_group_by, how='inner', on=['user_id', 'order_number'])\n",
    "\n",
    "df_most_recent_prior_order.head()"
   ]
  },
  {
   "cell_type": "markdown",
   "metadata": {},
   "source": [
    "Now we have the 200,000 most recent orders from our users and can presume they will order the exact same basket of goods.  This requires us to understand the structure of our output file."
   ]
  },
  {
   "cell_type": "code",
   "execution_count": null,
   "metadata": {},
   "outputs": [],
   "source": [
    "df_eval_sample = pd.read_csv('../references/sample_submission.csv', low_memory = False)\n",
    "\n",
    "df_eval_sample.head()"
   ]
  },
  {
   "cell_type": "markdown",
   "metadata": {},
   "source": [
    "Order id is the identifier for the output file, and we will need to construct a new products' field with the concatenation of all the products in the order."
   ]
  },
  {
   "cell_type": "code",
   "execution_count": null,
   "metadata": {},
   "outputs": [],
   "source": [
    "products_reordered = df_most_recent_prior_order.groupby('user_id')['product_id'].apply(lambda x: ' '.join(map(str, x)))\n",
    "\n",
    "products_reordered.head()"
   ]
  },
  {
   "cell_type": "markdown",
   "metadata": {},
   "source": [
    "Now that we have structured our products output, we must determine the users that are reordering in our test data set."
   ]
  },
  {
   "cell_type": "code",
   "execution_count": null,
   "metadata": {},
   "outputs": [],
   "source": [
    "df_test_order_products = df_orders.loc[df_orders['eval_set'] == 'test']\n",
    "\n",
    "df_test_order_products.sort_values(by='order_id').head()"
   ]
  },
  {
   "cell_type": "code",
   "execution_count": null,
   "metadata": {},
   "outputs": [],
   "source": [
    "df_test_order_products.shape"
   ]
  },
  {
   "cell_type": "markdown",
   "metadata": {},
   "source": [
    "With the test set, we can validate that the 75,000 orders in the test set are included in our rudimentary model."
   ]
  },
  {
   "cell_type": "code",
   "execution_count": null,
   "metadata": {},
   "outputs": [],
   "source": [
    "df_eval_sample_validation = df_test_order_products[df_test_order_products['order_id'].isin(df_eval_sample['order_id'])]\n",
    "\n",
    "df_eval_sample_validation.sort_values(by='order_id').head()"
   ]
  },
  {
   "cell_type": "code",
   "execution_count": null,
   "metadata": {},
   "outputs": [],
   "source": [
    "df_eval_sample_validation.shape"
   ]
  },
  {
   "cell_type": "code",
   "execution_count": null,
   "metadata": {},
   "outputs": [],
   "source": [
    "df_eval_orders = pd.merge(df_test_order_products, products_reordered, on='user_id', how='inner')\n",
    "\n",
    "df_eval_orders.head()"
   ]
  },
  {
   "cell_type": "markdown",
   "metadata": {},
   "source": [
    "### Simple Logistic Regression Model"
   ]
  },
  {
   "cell_type": "code",
   "execution_count": null,
   "metadata": {},
   "outputs": [],
   "source": [
    "from sklearn.linear_model import LogisticRegression\n"
   ]
  },
  {
   "cell_type": "code",
   "execution_count": null,
   "metadata": {},
   "outputs": [],
   "source": [
    "skl_logreg = LogisticRegression(random_state=101)\n",
    "\n",
    "skl_logreg_model = skl_logreg.fit(X_train, y_train)"
   ]
  },
  {
   "cell_type": "markdown",
   "metadata": {},
   "source": [
    "The train test split is applied to the train data."
   ]
  },
  {
   "cell_type": "markdown",
   "metadata": {},
   "source": [
    "## LightGBM"
   ]
  },
  {
   "cell_type": "code",
   "execution_count": null,
   "metadata": {},
   "outputs": [],
   "source": [
    "from sklearn import metrics\n",
    "\n",
    "import lightgbm as lgb"
   ]
  },
  {
   "cell_type": "markdown",
   "metadata": {},
   "source": [
    "### Data Loading"
   ]
  },
  {
   "cell_type": "code",
   "execution_count": null,
   "metadata": {},
   "outputs": [],
   "source": [
    "print('Loading data...')\n",
    "\n",
    "lgb_train = lgb.Dataset(X_train, y_train)\n",
    "lgb_eval = lgb.Dataset(X_test, y_test, reference=lgb_train)"
   ]
  },
  {
   "cell_type": "code",
   "execution_count": null,
   "metadata": {},
   "outputs": [],
   "source": [
    "X_train.head()"
   ]
  },
  {
   "cell_type": "markdown",
   "metadata": {},
   "source": [
    "### Model Parameters"
   ]
  },
  {
   "cell_type": "code",
   "execution_count": null,
   "metadata": {},
   "outputs": [],
   "source": [
    "# specify your configurations as a dict\n",
    "params = {\n",
    "    'boosting_type': 'gbdt',\n",
    "    'objective': 'binary',\n",
    "    'metric': ['binary_logloss', 'auc'],\n",
    "    'num_leaves': 1000,\n",
    "    # 'learning_rate': 0.05,\n",
    "    'feature_fraction': 0.9,\n",
    "    'bagging_fraction': 0.8,\n",
    "    'bagging_freq': 5,\n",
    "    'verbose': 0\n",
    "}\n",
    "\n",
    "evals_result = {}"
   ]
  },
  {
   "cell_type": "markdown",
   "metadata": {},
   "source": [
    "### Model Training"
   ]
  },
  {
   "cell_type": "code",
   "execution_count": null,
   "metadata": {},
   "outputs": [],
   "source": [
    "print('Starting training...')\n",
    "\n",
    "gbm = lgb.train(params,\n",
    "                lgb_train,\n",
    "                num_boost_round=100,\n",
    "                valid_sets=lgb_eval,\n",
    "                early_stopping_rounds=5,\n",
    "                evals_result=evals_result,\n",
    "                verbose_eval=5)"
   ]
  },
  {
   "cell_type": "code",
   "execution_count": null,
   "metadata": {},
   "outputs": [],
   "source": [
    "print('Saving model...')\n",
    "\n",
    "gbm.save_model('../models/lgbm_binary_model.txt')"
   ]
  },
  {
   "cell_type": "code",
   "execution_count": null,
   "metadata": {},
   "outputs": [],
   "source": [
    "print('Training accuracy {:.4f}'.format(gbm.score(x_train, y_train)))\n",
    "print('Testing accuracy {:.4f}'.format(gbm.score(x_test, y_test)))"
   ]
  },
  {
   "cell_type": "code",
   "execution_count": null,
   "metadata": {},
   "outputs": [],
   "source": [
    "lgb.plot_importance(gbm)"
   ]
  },
  {
   "cell_type": "code",
   "execution_count": null,
   "metadata": {},
   "outputs": [],
   "source": [
    "lgb.plot_metric(gbm)"
   ]
  },
  {
   "cell_type": "code",
   "execution_count": null,
   "metadata": {},
   "outputs": [],
   "source": [
    "print(metrics.classification_report(y_test,gbm.predict(df_test)))"
   ]
  },
  {
   "cell_type": "markdown",
   "metadata": {},
   "source": [
    "### Model Predictions"
   ]
  },
  {
   "cell_type": "code",
   "execution_count": null,
   "metadata": {},
   "outputs": [],
   "source": [
    "print('Starting predicting on test set...')\n",
    "# predict\n",
    "y_pred = gbm.predict(X_test, num_iteration=gbm.best_iteration)"
   ]
  },
  {
   "cell_type": "markdown",
   "metadata": {},
   "source": [
    "### Evaluation Data"
   ]
  },
  {
   "cell_type": "markdown",
   "metadata": {},
   "source": [
    "The tables are joined to associate the users with the products.  However, the test orders do not indicate the products they ordered.  It provides only the order number, day of week, hour of day, and days since prior order."
   ]
  },
  {
   "cell_type": "markdown",
   "metadata": {},
   "source": [
    "The prior data is joined back to understand what products are in the prior orders."
   ]
  },
  {
   "cell_type": "markdown",
   "metadata": {},
   "source": [
    "Now that we have our 75,000 records of test data, we can rework the structure to match the model as the input fields will have to be identical."
   ]
  },
  {
   "cell_type": "code",
   "execution_count": null,
   "metadata": {},
   "outputs": [],
   "source": []
  },
  {
   "cell_type": "code",
   "execution_count": null,
   "metadata": {},
   "outputs": [],
   "source": [
    "print('Starting predicting on eval set...')\n",
    "# predict\n",
    "y_pred = gbm.predict(df_test, num_iteration=gbm.best_iteration)"
   ]
  },
  {
   "cell_type": "markdown",
   "metadata": {},
   "source": [
    "### Model Evaluation"
   ]
  },
  {
   "cell_type": "code",
   "execution_count": null,
   "metadata": {},
   "outputs": [],
   "source": [
    "# eval\n",
    "rmse_test = mean_squared_error(y_test, y_pred) ** 0.5\n",
    "print(f'The RMSE of prediction is: {rmse_test}')"
   ]
  },
  {
   "cell_type": "code",
   "execution_count": null,
   "metadata": {},
   "outputs": [],
   "source": [
    "gbm_feature_importance_values = gbm.feature_importance()\n",
    "gbm_feature_importances = pd.DataFrame({'feature': X_train.columns, 'importance': gbm_feature_importance_values})\n",
    "gbm_feature_importances.sort_values(by='importance', ascending=False).head(n=10)"
   ]
  },
  {
   "cell_type": "markdown",
   "metadata": {},
   "source": [
    "## Model Prediction"
   ]
  },
  {
   "cell_type": "markdown",
   "metadata": {},
   "source": [
    "### Simple Reorder Model"
   ]
  },
  {
   "cell_type": "markdown",
   "metadata": {},
   "source": [
    "For a truly simplistic model, we will simply predict that the user will order the same basket of goods as their last order."
   ]
  },
  {
   "cell_type": "code",
   "execution_count": null,
   "metadata": {},
   "outputs": [],
   "source": [
    "df_submission_reorder = df_eval_orders.rename(columns={'product_id': 'products'})[['order_id', 'products']].sort_values(by='order_id')\n",
    "\n",
    "df_submission_reorder"
   ]
  },
  {
   "cell_type": "code",
   "execution_count": null,
   "metadata": {},
   "outputs": [],
   "source": [
    "df_submission_reorder.to_csv('../models/submission_reorder.csv', index=False)"
   ]
  },
  {
   "cell_type": "markdown",
   "metadata": {},
   "source": [
    "Alright so the question now is how could we improve the model?  What if we looked simply at products that were reordered and not the products that were not reordered?  Perhaps those items are more likely to be in the basket of goods that the user will order.  Alternatively, we could look at the products that were not reordered and see if they are more likely to be in the basket of goods that the user will order.  Perhaps these new items are more likely to be in the basket of goods that the user will order next."
   ]
  },
  {
   "cell_type": "markdown",
   "metadata": {},
   "source": [
    "Recall that our primary target is the Reordered field.  In reality, an item is either reordered or not reordered.  However, the model must predict the probability of an item being reordered or not reordered.  Thus, the simplest approach is to use a logistic regression model."
   ]
  },
  {
   "cell_type": "markdown",
   "metadata": {},
   "source": [
    "### Simple Logistic Regression Model"
   ]
  },
  {
   "cell_type": "code",
   "execution_count": null,
   "metadata": {},
   "outputs": [],
   "source": [
    "y_pred = skl_logreg_model.predict(df_test).astype(int)\n",
    "\n",
    "y_pred[0:20]"
   ]
  },
  {
   "cell_type": "code",
   "execution_count": null,
   "metadata": {},
   "outputs": [],
   "source": [
    "from sklearn.metrics import accuracy_score, classification_report, confusion_matrix\n",
    "\n",
    "cm = confusion_matrix(y_test, y_pred)"
   ]
  },
  {
   "cell_type": "code",
   "execution_count": null,
   "metadata": {},
   "outputs": [],
   "source": [
    "df_test['prediction'] = y_pred\n",
    "\n",
    "df_test.head()"
   ]
  },
  {
   "cell_type": "code",
   "execution_count": null,
   "metadata": {},
   "outputs": [],
   "source": [
    "df_test['prediction'].value_counts()"
   ]
  },
  {
   "cell_type": "markdown",
   "metadata": {},
   "source": []
  },
  {
   "cell_type": "code",
   "execution_count": null,
   "metadata": {},
   "outputs": [],
   "source": [
    "df_prediction_skl_logreg = df_test.reset_index()\n",
    "\n",
    "df_prediction_skl_logreg = df_prediction_skl_logreg[ ['product_id', 'user_id', 'prediction'] ]\n",
    "\n",
    "df_prediction_skl_logreg.head()"
   ]
  },
  {
   "cell_type": "markdown",
   "metadata": {},
   "source": [
    "With the predictions for each user-product combination, we will now need to restructure our submission to match the format of the Kaggle competition submission."
   ]
  },
  {
   "cell_type": "code",
   "execution_count": null,
   "metadata": {},
   "outputs": [],
   "source": [
    "df_orders_test = df_orders.loc[df_orders.eval_set=='test',('user_id', 'order_id')]\n",
    "\n",
    "df_orders_test.head()"
   ]
  },
  {
   "cell_type": "markdown",
   "metadata": {},
   "source": [
    "The user ID will be used to join the predictions back to the submission."
   ]
  },
  {
   "cell_type": "code",
   "execution_count": null,
   "metadata": {},
   "outputs": [],
   "source": [
    "df_prediction_skl_logreg = pd.merge(df_prediction_skl_logreg, df_orders_test, on='user_id', how='left')\n",
    "\n",
    "df_prediction_skl_logreg.head()"
   ]
  },
  {
   "cell_type": "markdown",
   "metadata": {},
   "source": [
    "The user ID is not required after the join and the product ID should be classified as an integer."
   ]
  },
  {
   "cell_type": "code",
   "execution_count": null,
   "metadata": {},
   "outputs": [],
   "source": [
    "df_prediction_skl_logreg = df_prediction_skl_logreg.drop('user_id', axis=1)\n",
    "\n",
    "df_prediction_skl_logreg['product_id'] = df_prediction_skl_logreg.product_id.astype(int)\n",
    "\n",
    "df_prediction_skl_logreg.head()"
   ]
  },
  {
   "cell_type": "markdown",
   "metadata": {},
   "source": [
    "The submission requires that all the products in the order be concatenated together into a single field."
   ]
  },
  {
   "cell_type": "code",
   "execution_count": null,
   "metadata": {},
   "outputs": [],
   "source": [
    "dict_products = dict()\n",
    "for row in df_prediction_skl_logreg.itertuples():\n",
    "    if row.prediction == 1:\n",
    "        try:\n",
    "            dict_products[row.order_id] += ' ' + str(row.product_id)\n",
    "        except:\n",
    "            dict_products[row.order_id] = str(row.product_id)\n",
    "\n",
    "for order in df_prediction_skl_logreg.order_id:\n",
    "    if order not in dict_products:\n",
    "        dict_products[order] = 'None'"
   ]
  },
  {
   "cell_type": "code",
   "execution_count": null,
   "metadata": {},
   "outputs": [],
   "source": [
    "list(dict_products.items())[:5]"
   ]
  },
  {
   "cell_type": "markdown",
   "metadata": {},
   "source": [
    "With the dictionary of products completed, we can now construct the submission as a data frame."
   ]
  },
  {
   "cell_type": "code",
   "execution_count": null,
   "metadata": {},
   "outputs": [],
   "source": [
    "df_submission_skl_logreg = pd.DataFrame.from_dict(dict_products, orient='index')\n",
    "\n",
    "df_submission_skl_logreg.reset_index(inplace=True)\n",
    "\n",
    "df_submission_skl_logreg.columns = ['order_id', 'products']\n",
    "\n",
    "df_submission_skl_logreg.head()"
   ]
  },
  {
   "cell_type": "code",
   "execution_count": null,
   "metadata": {},
   "outputs": [],
   "source": [
    "df_submission_skl_logreg.shape"
   ]
  },
  {
   "cell_type": "markdown",
   "metadata": {},
   "source": [
    "As required, there are two fields, one for the order ID and one with all the product IDs in the predicted subsequent order for all 75,000 orders."
   ]
  },
  {
   "cell_type": "code",
   "execution_count": null,
   "metadata": {},
   "outputs": [],
   "source": [
    "df_submission_skl_logreg.to_csv('../models/submission_skl_logreg.csv', index=False)"
   ]
  },
  {
   "cell_type": "markdown",
   "metadata": {},
   "source": [
    "## LightGBM"
   ]
  },
  {
   "cell_type": "code",
   "execution_count": null,
   "metadata": {},
   "outputs": [],
   "source": [
    "y_pred[0:20]"
   ]
  },
  {
   "cell_type": "markdown",
   "metadata": {},
   "source": [
    "We will need to define a threshold as the submission is not a probabilistic model and is only interested in whether a product is reordered."
   ]
  },
  {
   "cell_type": "code",
   "execution_count": null,
   "metadata": {},
   "outputs": [],
   "source": [
    "df_test['prediction'] = y_pred\n",
    "\n",
    "df_test.head()"
   ]
  },
  {
   "cell_type": "code",
   "execution_count": null,
   "metadata": {},
   "outputs": [],
   "source": [
    "df_prediction_lgbm = df_test.reset_index()\n",
    "\n",
    "df_prediction_lgbm = df_prediction_lgbm[ ['product_id', 'user_id', 'prediction'] ]\n",
    "\n",
    "df_prediction_lgbm.head()"
   ]
  },
  {
   "cell_type": "code",
   "execution_count": null,
   "metadata": {},
   "outputs": [],
   "source": [
    "df_orders_test = df_orders.loc[df_orders.eval_set=='test',('user_id', 'order_id')]\n",
    "\n",
    "df_orders_test.head()"
   ]
  },
  {
   "cell_type": "code",
   "execution_count": null,
   "metadata": {},
   "outputs": [],
   "source": [
    "df_prediction_lgbm = pd.merge(df_prediction_lgbm, df_orders_test, on='user_id', how='left')\n",
    "\n",
    "df_prediction_lgbm.head()"
   ]
  },
  {
   "cell_type": "code",
   "execution_count": null,
   "metadata": {},
   "outputs": [],
   "source": [
    "df_prediction_lgbm = df_prediction_lgbm.drop('user_id', axis=1)\n",
    "\n",
    "df_prediction_lgbm['product_id'] = df_prediction_lgbm.product_id.astype(int)\n",
    "\n",
    "df_prediction_lgbm.head()"
   ]
  },
  {
   "cell_type": "code",
   "execution_count": null,
   "metadata": {},
   "outputs": [],
   "source": [
    "threshold_probability = 0.5\n",
    "dict_products = dict()\n",
    "\n",
    "for row in df_prediction_lgbm.itertuples():\n",
    "    if row.prediction > threshold_probability:\n",
    "        try:\n",
    "            dict_products[row.order_id] += ' ' + str(row.product_id)\n",
    "        except:\n",
    "            dict_products[row.order_id] = str(row.product_id)\n",
    "\n",
    "for order in df_prediction_lgbm.order_id:\n",
    "    if order not in dict_products:\n",
    "        dict_products[order] = 'None'"
   ]
  },
  {
   "cell_type": "code",
   "execution_count": null,
   "metadata": {},
   "outputs": [],
   "source": [
    "list(dict_products.items())[:5]"
   ]
  },
  {
   "cell_type": "code",
   "execution_count": null,
   "metadata": {},
   "outputs": [],
   "source": [
    "df_submission_lgbm = pd.DataFrame.from_dict(dict_products, orient='index')\n",
    "\n",
    "df_submission_lgbm.reset_index(inplace=True)\n",
    "\n",
    "df_submission_lgbm.columns = ['order_id', 'products']\n",
    "\n",
    "df_submission_lgbm.head()"
   ]
  },
  {
   "cell_type": "code",
   "execution_count": null,
   "metadata": {},
   "outputs": [],
   "source": [
    "df_submission_lgbm.shape"
   ]
  },
  {
   "cell_type": "code",
   "execution_count": null,
   "metadata": {},
   "outputs": [],
   "source": [
    "df_submission_skl_logreg.to_csv('../models/submission_lgbm.csv', index=False)"
   ]
  },
  {
   "cell_type": "code",
   "execution_count": null,
   "metadata": {},
   "outputs": [],
   "source": []
  }
 ],
 "metadata": {
  "interpreter": {
   "hash": "47bfacf238af902e255f843adaca8f636a6fb02ff2b09db2cbf0e4ee988c8a1e"
  },
  "kernelspec": {
   "display_name": "Python 3.7.11 64-bit ('base': conda)",
   "language": "python",
   "name": "python3"
  },
  "language_info": {
   "codemirror_mode": {
    "name": "ipython",
    "version": 3
   },
   "file_extension": ".py",
   "mimetype": "text/x-python",
   "name": "python",
   "nbconvert_exporter": "python",
   "pygments_lexer": "ipython3",
   "version": "3.7.11"
  },
  "orig_nbformat": 4
 },
 "nbformat": 4,
 "nbformat_minor": 2
}